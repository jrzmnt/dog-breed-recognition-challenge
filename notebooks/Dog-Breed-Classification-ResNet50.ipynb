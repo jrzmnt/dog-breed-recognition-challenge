{
 "cells": [
  {
   "cell_type": "markdown",
   "id": "5a48bca3",
   "metadata": {},
   "source": [
    "# DOG BREED RECOGNITION\n",
    "<br>\n",
    "\n",
    "@author: Juarez Monteiro"
   ]
  },
  {
   "cell_type": "markdown",
   "id": "34e96c86",
   "metadata": {},
   "source": [
    "---\n",
    "\n",
    "## A ideia\n",
    "Desenvolver um sistema simples de reconhecimento de raças de cachorro. Porém, com\n",
    "uma dificuldade extra: adicionar raças que não foram vistas em tempo de treinamento, e\n",
    "saber identificar *unknowns* (por exemplo, nossos queridos vira-latas)."
   ]
  },
  {
   "cell_type": "markdown",
   "id": "86432ec4",
   "metadata": {},
   "source": [
    "## Primeira Parte\n",
    "Na pasta **train** está um total de 100 raças de cachorros, uma em cada pasta. Num primeiro momento desenvolva um sistema que, dada uma foto de um cachorro destas raças, consiga dizer qual é a sua raça e com uma confiança desta predição.\n",
    "\n",
    "---"
   ]
  },
  {
   "cell_type": "markdown",
   "id": "b1b49240",
   "metadata": {},
   "source": [
    "# Dog Breed Model - Enhanced (ResNet-50)\n",
    "\n",
    "---\n",
    "\n",
    "# Acesse os dados de treinamento da ResNet-50 - Model Enhanced (FC) clicando [aqui](https://wandb.ai/jrzmnt/dog-breed-lightning/reports/Dog-Breed-Recognition-ResNet-50-Enhanced--VmlldzoxMTI4OTUx?accessToken=m3tjxn2hd854uapd0jjdl6pf1ccjckgamdvx43hkvobtgi3qre1l74mm69b71ch0)!\n",
    "\n",
    "\n",
    "---\n",
    "\n",
    "## Configuração do Modelo e Treinamento\n",
    "\n",
    "Nesta sessão iremos instanciar o nosso modelo e iremos iniciar o treinamento do mesmo. Para isto, iremos utilizar a classe ```DogModel```. O modelo, *enhanced* em relação ao modelo de *baseline*, recebe como parâmetro o número de classes do problema (```num_classes=100```), e se queremos um modelo pré-treinado no ImageNet (```pre_trained=True```).\n",
    "\n",
    "---\n",
    "\n",
    "Para entendermos melhor algumas escolhas e como é o modelo **enhanced (fc)** são listadas as suas características a seguir:\n",
    "\n",
    "- ### Topologia <br>\n",
    "    - ResNet-50: Nessa versão, iremos utilizar a arquitetura ResNet-50 ([ResNet-50](https://pytorch.org/vision/0.8/_modules/torchvision/models/resnet.html)), por ser um modelo conhecido na área, e o qual as suas versões demonstram bons resultados na literatura ([Artigo ResNet](https://openaccess.thecvf.com/content_cvpr_2016/papers/He_Deep_Residual_Learning_CVPR_2016_paper.pdf), [Artigo de experimentação com ResNet](https://arxiv.org/abs/2110.00476));<br><br>\n",
    "\n",
    "    - Para alguns casos o pré-treino (ImageNet) auxilia na convergência do modelo, fazendo com que o mesmo encontre o mínimo local de maneira mais rápida ([Artigo sobre Pré-treino](https://arxiv.org/abs/1811.08883)), dito isso, iremos utilizar um modelo pré-treinado no dataset ImageNet; <br><br>\n",
    "    \n",
    "- ### Pré-treino <br>\n",
    "    - Para inicializarmos o pré-treino com a ResNet-18, iremos \"congelar\" todas as camadas do modelo, exceto as camadas ```fc.weight``` e ```fc.bias```; <br><br>\n",
    "    \n",
    "    - Com isso, nosso modelo irá aproveitar os pesos do ImageNet para as camadas anteriores, e irá treinar somente a camada toalmente conectada do nosso modelo; <br><br>\n",
    "    \n",
    "    - A ideia no primeiro momento é de aprendermos **características** (*features*) mais específicas do nosso problema, e deixarmos features mais abstratas, tais como bordas, etc., para os pesos aproveitados; <br><br>\n",
    "\n",
    "\n",
    "- ### Learning Rate e Learning Rate Scheduler <br>\n",
    "    - Como pode ser visto anteriormente, utilizamos um método para encontrarmos o melhor LR inicial para o modelo. E iremos utilizar o mesmo juntamente de um LR Scheduler para treinamento do nosso modelo; <br><br>\n",
    "    \n",
    "    - A imagem que representa a busca do melhor LR, nos mostra que um possível LR a ser escolhido será o valor de 1e-3, apesar do loss apresentado pelo método.\n",
    "    \n",
    "    - Utilizaremos o LR Scheduler ```ExponentialLR```, por ele funcionar muito bem com *Early Stopping*, e propor o que desejamos ([Pytorch ref.](https://pytorch.org/docs/stable/generated/torch.optim.lr_scheduler.ExponentialLR.html)); <br><br>\n",
    "    \n",
    "    - A ideia é não só diminuirmos o tempo de construção da nossa função (modelo), como irmos degradando o valor do LR pouco a pouco para encontrarmos o *mínimo global* do problema; <br><br>\n",
    "    \n",
    "- ### Otimizador e Loss <br>\n",
    "    - Como otimizador iremos utilizar o clássico `Adam` ([Artigo](https://arxiv.org/pdf/1412.6980.pdf)); <br>\n",
    "        - \"In practice Adam is currently recommended as the default algorithm to use\", Andrej Karpathy ([CS231n](https://cs231n.github.io/)); <br><br>\n",
    "        \n",
    "    - Para o loss, foi escolhido o `CrossEntropyLoss` ([Pytorch ref.](https://pytorch.org/docs/stable/generated/torch.nn.CrossEntropyLoss.html)), o qual juntamente com o Adam, segue uma escolha padrão para problemas de classificação.\n",
    "\n",
    "---"
   ]
  },
  {
   "cell_type": "markdown",
   "id": "4f595091",
   "metadata": {},
   "source": [
    "Iniciaremos o código gerando o *import* de métodos e classes importantes para realizarmos o nosso objetivo"
   ]
  },
  {
   "cell_type": "code",
   "execution_count": 1,
   "id": "f20de442",
   "metadata": {},
   "outputs": [
    {
     "name": "stderr",
     "output_type": "stream",
     "text": [
      "wandb: Currently logged in as: jrzmnt (use `wandb login --relogin` to force relogin)\n"
     ]
    }
   ],
   "source": [
    "# regular imports\n",
    "import os\n",
    "import re\n",
    "import numpy as np\n",
    "import random\n",
    "import matplotlib.pyplot as plt\n",
    "import math\n",
    "import logging\n",
    "from PIL import Image\n",
    "from tqdm import tqdm\n",
    "\n",
    "# sklearn imports\n",
    "from sklearn.model_selection import train_test_split\n",
    "\n",
    "# pytorch related imports\n",
    "import torch\n",
    "from torch import nn\n",
    "from torch.nn import functional as F\n",
    "from torch.utils.data import DataLoader, random_split\n",
    "from torch.utils.data import Dataset\n",
    "from torch.optim.lr_scheduler import ExponentialLR\n",
    "from torchvision import transforms\n",
    "from torchvision import models\n",
    "from torch.autograd import Variable\n",
    "\n",
    "# lightning related imports\n",
    "import pytorch_lightning as pl\n",
    "from pytorch_lightning.metrics.functional import accuracy\n",
    "from pytorch_lightning.callbacks import Callback\n",
    "from pytorch_lightning.callbacks.early_stopping import EarlyStopping\n",
    "from pytorch_lightning.loggers import WandbLogger\n",
    "from pytorch_lightning.callbacks import ModelCheckpoint, LearningRateMonitor\n",
    "from pytorch_lightning import Trainer"
   ]
  },
  {
   "cell_type": "code",
   "execution_count": null,
   "id": "48972243",
   "metadata": {},
   "outputs": [],
   "source": [
    "# import wandb and login\n",
    "import wandb\n",
    "!wandb login"
   ]
  },
  {
   "cell_type": "markdown",
   "id": "0a756f6e",
   "metadata": {},
   "source": [
    "Os métodos a seguir (`find_lr` e `plot_loss`) são utilizados na sessão de treinamento do modelo. Eles são responsáveis por encontrar um *learning rate* ideal dado um *data_loader*, um modelo, um otimizador e um loss. Após a fase de experimentação, o método `plot_loss` irá apresentar em uma figura o *loss* obtido pelo modelo utilizando diferentes valores de *learning rate*, e caberá a nós escolhermos o melhor."
   ]
  },
  {
   "cell_type": "code",
   "execution_count": 2,
   "id": "fe3a388a",
   "metadata": {},
   "outputs": [],
   "source": [
    "def find_lr(train_loader, model, optimizer, criterion, init_value=1e-8, final_value=10., beta=0.98):\n",
    "    \"\"\"Perform Learning Rate Finder to check loss for each value of learning rate.\n",
    "\n",
    "    Parameters\n",
    "    ----------\n",
    "    train_loader : torch.utils.data.DataLoader\n",
    "        Dataloader that yields images and labels in batches.\n",
    "    model : torchvision.models.resnet.ResNet\n",
    "        ResNet model containing pre-trained weights.\n",
    "    optimizer : torch.optim.<module>\n",
    "        Type of optimizer.\n",
    "    criterion : torch.nn.modules.loss.<module>\n",
    "        Criterion to compute loss.\n",
    "    init_value : float\n",
    "        Initial learning rate value (minimum learning rate).\n",
    "    final_value : float\n",
    "        Final learning rate value (maximum learning rate).\n",
    "    beta : float\n",
    "        Normalization (smooth) value.\n",
    "    \"\"\"\n",
    "    num = len(train_loader)-1\n",
    "    mult = (final_value / init_value) ** (1/num)\n",
    "    lr = init_value\n",
    "    optimizer.param_groups[0]['lr'] = lr\n",
    "    avg_loss = 0.\n",
    "    best_loss = 0.\n",
    "    batch_num = 0\n",
    "    losses = []\n",
    "    log_lrs = []\n",
    "    \n",
    "    for data in tqdm(train_loader):\n",
    "        logging.info(f'Testing batch {batch_num} with LR: {lr}')\n",
    "        batch_num += 1\n",
    "        inputs, labels = data\n",
    "        inputs, labels = Variable(inputs), Variable(labels)\n",
    "        optimizer.zero_grad()\n",
    "        outputs = model(inputs)\n",
    "        loss = criterion(outputs, labels)\n",
    "\n",
    "        avg_loss = beta * avg_loss + (1-beta) *loss.item()\n",
    "        smoothed_loss = avg_loss / (1 - beta**batch_num)\n",
    "        \n",
    "        #Stop if the loss is exploding\n",
    "        if batch_num > 1 and smoothed_loss > 4 * best_loss:\n",
    "            return log_lrs, losses\n",
    "        \n",
    "        #Record the best loss\n",
    "        if smoothed_loss < best_loss or batch_num==1:\n",
    "            best_loss = smoothed_loss\n",
    "            \n",
    "        #Store the values\n",
    "        losses.append(smoothed_loss)\n",
    "        log_lrs.append(math.log10(lr))\n",
    "        \n",
    "        #Do step\n",
    "        loss.backward()\n",
    "        optimizer.step()\n",
    "        \n",
    "        #Update the lr for the next step\n",
    "        lr *= mult\n",
    "        optimizer.param_groups[0]['lr'] = lr\n",
    "        \n",
    "    return log_lrs, losses"
   ]
  },
  {
   "cell_type": "code",
   "execution_count": 3,
   "id": "f00ff08e",
   "metadata": {},
   "outputs": [],
   "source": [
    "def plot_loss(logs, losses, output=None):\n",
    "    \"\"\"Generate plot containing learning rate x loss.\n",
    "\n",
    "    Parameters\n",
    "    ----------\n",
    "    logs : array\n",
    "        List containing logs.\n",
    "    losses : array\n",
    "        List containing losses.\n",
    "    output : string (optional)\n",
    "        Path to save image in disk.\n",
    "    \"\"\"\n",
    "    plt.clf()\n",
    "    plt.figure(figsize=(10,5))\n",
    "    plt.plot(logs[10:-5], losses[10:-5])\n",
    "    plt.xlabel('Learning rate')\n",
    "    plt.ylabel('Loss')\n",
    "    plt.tight_layout()\n",
    "    \n",
    "    if output:\n",
    "        logging.info(f'Plot saved at: {output}')\n",
    "        plt.savefig(output)\n",
    "        \n",
    "    else:\n",
    "        plt.show()"
   ]
  },
  {
   "cell_type": "markdown",
   "id": "3a2cd922",
   "metadata": {},
   "source": [
    "A seguir é criada a classe `DogDataset` com a principal função de sobreescever os métodos `__init__`, `__len__` e `__getitem__` oriundos da classe `Dataset` (`torch.utils.data`). Criamos a classe justamente para que a mesma seja adequada a realidade do nosso problema. A principal função a ser executada por essa classe é a de receber um indíce específico (`idx`) e retornar a imagem referente a este indíce juntamente ao id da classe desta imagem (`label_id`)."
   ]
  },
  {
   "cell_type": "code",
   "execution_count": 4,
   "id": "45c4b884",
   "metadata": {},
   "outputs": [],
   "source": [
    "class DogDataset(Dataset):\n",
    "\n",
    "    def __init__(self, file_list, class_dict, transform=None, phase=None):\n",
    "        self.file_list = file_list\n",
    "        self.class_dict = class_dict\n",
    "        self.transform = transform\n",
    "        self.phase = phase\n",
    "\n",
    "    def __len__(self):\n",
    "        return len(self.file_list)\n",
    "    \n",
    "\n",
    "    def __getitem__(self, idx):\n",
    "        img_path = self.file_list[idx]\n",
    "        img = Image.open(img_path).convert('RGB')\n",
    "\n",
    "        # Transformimg Image\n",
    "        img_transformed = self.transform(img, self.phase)\n",
    "\n",
    "        # Get Label\n",
    "        label = img_path.split('\\\\')[0].split('-')[-1]\n",
    "        label_id = self.class_dict[label]\n",
    "\n",
    "        return img_transformed, label_id"
   ]
  },
  {
   "cell_type": "markdown",
   "id": "99655058",
   "metadata": {},
   "source": [
    "A classe ImageTransform é responsável por fornecer as modificações que desejamos nos conjuntos de imagens a serem criados (`dog_val`, `dog_train` e `dog_test`), dado o parâmetro `phase`, o qual indica qual conjunto de dados (treino, validação ou teste) estamos modificando. Essa classe irá conduzir o *data augmentation* quando necessário, bem como a normalização utilizando a média e desvio padrão do dataset (ImageNet), uma vez que iremos utilizar um modelo pré-treinado no mesmo."
   ]
  },
  {
   "cell_type": "code",
   "execution_count": 5,
   "id": "20c708fc",
   "metadata": {},
   "outputs": [],
   "source": [
    "class ImageTransform():\n",
    "\n",
    "    def __init__(self, img_size=224, mean=(0.485, 0.456, 0.406), std=(0.229, 0.224, 0.225)):\n",
    "\n",
    "        self.data_transform = {\n",
    "\n",
    "            'train': transforms.Compose([\n",
    "                transforms.RandomResizedCrop(img_size, scale=(0.5, 1.0)),\n",
    "                transforms.RandomHorizontalFlip(),\n",
    "                #transforms.RandomRotation(degrees=(0, 180)),\n",
    "                transforms.ToTensor(),\n",
    "                transforms.Normalize(mean, std)\n",
    "            ]),\n",
    "\n",
    "            'val': transforms.Compose([\n",
    "                transforms.Resize(256),\n",
    "                transforms.CenterCrop(img_size),\n",
    "                transforms.ToTensor(),\n",
    "                transforms.Normalize(mean, std)\n",
    "            ]),\n",
    "\n",
    "            'test': transforms.Compose([\n",
    "                transforms.Resize(256),\n",
    "                transforms.CenterCrop(img_size),\n",
    "                transforms.ToTensor(),\n",
    "                transforms.Normalize(mean, std)\n",
    "            ])\n",
    "        }\n",
    "\n",
    "    def __call__(self, img, phase):\n",
    "\n",
    "        return self.data_transform[phase](img)"
   ]
  },
  {
   "cell_type": "markdown",
   "id": "a598c416",
   "metadata": {},
   "source": [
    "A classe `DogDataModule` será responsável por escanear e organizar nosso Dataset."
   ]
  },
  {
   "cell_type": "code",
   "execution_count": 6,
   "id": "4c3576e9",
   "metadata": {},
   "outputs": [],
   "source": [
    "class DogDataModule(pl.LightningDataModule):\n",
    "    def __init__(self, batch_size, data_dir: str = './../data/dogs/'):\n",
    "        super().__init__()\n",
    "        \n",
    "        # images and dataset\n",
    "        self.data_dir = data_dir\n",
    "        self.train_data_dir = data_dir + 'train/'\n",
    "        self.test_data_dir = data_dir + 'recognition/test/'\n",
    "        \n",
    "        self.batch_size = batch_size\n",
    "        self.dims = (3, 224, 224)\n",
    "        self.img_size = 224\n",
    "        self.num_classes = 100\n",
    "        self.class_dict = {}\n",
    "        self.train_path_images = []\n",
    "        self.test_path_images = []\n",
    "        self.breeds = []\n",
    "\n",
    "        self.train_split_path = []\n",
    "        self.val_split_path = []\n",
    "        self.dog_train = []\n",
    "        self.dog_val = []\n",
    "        self.dog_test = []\n",
    "        \n",
    "    def prepare_data(self):\n",
    "        \"\"\"Scan train_data_dir and test_data_dir to save all the train/test paths.\n",
    "           It also creates train_dic to map the classes available to a scalar.\n",
    "        \"\"\"\n",
    "        \n",
    "        # Scan all train/val images\n",
    "        for d in os.listdir(self.train_data_dir):\n",
    "            dog_dir = os.path.join(self.train_data_dir, d)\n",
    "    \n",
    "            for img in os.listdir(dog_dir):\n",
    "                img_path = os.path.join(dog_dir, img)\n",
    "                self.train_path_images.append(img_path)\n",
    "                self.breeds.append(img_path.split('\\\\')[0].split('-')[-1])\n",
    "            \n",
    "        self.breeds = set(self.breeds)\n",
    "        \n",
    "        for idx, breed in enumerate(self.breeds):\n",
    "            self.class_dict[breed] = idx\n",
    "        \n",
    "        # Scan all test images\n",
    "        for d in os.listdir(self.test_data_dir):\n",
    "            dog_dir = os.path.join(self.test_data_dir, d)\n",
    "    \n",
    "            for img in os.listdir(dog_dir):\n",
    "                img_path = os.path.join(dog_dir, img)\n",
    "                self.test_path_images.append(img_path)\n",
    "        \n",
    "        print(50*'-')\n",
    "        print(f'Images available for train/val: {len(self.train_path_images)}')\n",
    "        print(f'Classes available for train/val: {len(self.breeds)}')\n",
    "        print()\n",
    "        print(f'Images available for test: {len(self.test_path_images)}')\n",
    "        print(50*'-')\n",
    "    \n",
    "    def setup(self, stage=None):\n",
    "        \"\"\"Creates DogDataset objects, depends on which stage was passed\n",
    "\n",
    "        Parameters\n",
    "        ----------\n",
    "        stage : string (optional)\n",
    "            Name of the actual stage ('fit' or 'test')\n",
    "        \"\"\"\n",
    "        \n",
    "        # Assign train/val datasets for use in dataloaders\n",
    "        if stage == 'fit' or stage is None:\n",
    "            \n",
    "            self.train_split_path, self.val_split_path = train_test_split(self.train_path_images, test_size=0.2)\n",
    "\n",
    "            self.dog_train = DogDataset(self.train_split_path,\n",
    "                                        self.class_dict,\n",
    "                                        ImageTransform(self.img_size),\n",
    "                                        phase='train')\n",
    "\n",
    "            self.dog_val = DogDataset(self.val_split_path,\n",
    "                                      self.class_dict,\n",
    "                                      ImageTransform(self.img_size),\n",
    "                                      phase='val')\n",
    "            \n",
    "        # Assign test dataset for use in dataloader(s)\n",
    "        if stage == 'test':\n",
    "            self.dog_test = DogDataset(self.test_path_images,\n",
    "                                      self.class_dict,\n",
    "                                      ImageTransform(self.img_size),\n",
    "                                      phase='test')\n",
    "        \n",
    "    def random_plot_train_data(self):\n",
    "        \"\"\"Randomly pick an image from train_path_images to plot in the screen.\n",
    "        \n",
    "        \"\"\"\n",
    "        img_path = random.choice(self.train_path_images)\n",
    "        img = Image.open(img_path)\n",
    "        breed = img_path.split('\\\\')[0].split('-')[-1]\n",
    "        \n",
    "        print(breed)\n",
    "\n",
    "        plt.imshow(img)\n",
    "        plt.axis('off')\n",
    "        plt.title(breed)\n",
    "        plt.show()\n",
    "    \n",
    "    def train_dataloader(self):\n",
    "        return DataLoader(self.dog_train, batch_size=self.batch_size, shuffle=True)\n",
    "    \n",
    "    \n",
    "    def val_dataloader(self):\n",
    "        return DataLoader(self.dog_val, batch_size=self.batch_size, shuffle=False)\n",
    "    \n",
    "    \n",
    "    def test_dataloader(self):\n",
    "        return DataLoader(self.dog_test, batch_size=self.batch_size, shuffle=False)\n"
   ]
  },
  {
   "cell_type": "markdown",
   "id": "7827ce74",
   "metadata": {},
   "source": [
    "A classe `ImagePredictionLogger` a qual será um *callback* utilizado durante a fase de treino, será responsável por nos enviar um batch para validarmos e termos um *feedback* visual na ferramenta *wanbd*."
   ]
  },
  {
   "cell_type": "code",
   "execution_count": 7,
   "id": "b766f846",
   "metadata": {},
   "outputs": [],
   "source": [
    "# This Callback allow us to verify the predictions for one batch while using wandb\n",
    "class ImagePredictionLogger(Callback):\n",
    "    def __init__(self, val_samples, num_samples=32):\n",
    "        super().__init__()\n",
    "        self.num_samples = num_samples\n",
    "        self.val_imgs, self.val_labels = val_samples\n",
    "        \n",
    "    def on_validation_epoch_end(self, trainer, pl_module):\n",
    "        # Bring the tensors to CPU\n",
    "        val_imgs = self.val_imgs.to(device=pl_module.device)\n",
    "        val_labels = self.val_labels.to(device=pl_module.device)\n",
    "        \n",
    "        # Get model prediction\n",
    "        logits = pl_module(val_imgs)\n",
    "        preds = torch.argmax(logits, -1)\n",
    "        \n",
    "        # Log the images as wandb Image\n",
    "        trainer.logger.experiment.log({\n",
    "            \"examples\":[wandb.Image(x, caption=f\"Pred:{pred}, Label:{y}\") \n",
    "                           for x, pred, y in zip(val_imgs[:self.num_samples], \n",
    "                                                 preds[:self.num_samples], \n",
    "                                                 val_labels[:self.num_samples])]\n",
    "            })"
   ]
  },
  {
   "cell_type": "markdown",
   "id": "bed714f7",
   "metadata": {},
   "source": [
    "Como o próprio nome já diz, a classe `DogModel` será responsável por instanciar nosso `model`. Nela, estão contidas informações da arquitetura da rede, métodos fundamentais como `training_step` e o `validation_step` que são responsáveis pela fase de treinamento."
   ]
  },
  {
   "cell_type": "code",
   "execution_count": 11,
   "id": "97da0184",
   "metadata": {},
   "outputs": [],
   "source": [
    "class DogModel(pl.LightningModule):\n",
    "    \n",
    "    def __init__(self, input_shape, num_classes, learning_rate=2e-4, pre_trained=False):\n",
    "        super().__init__()\n",
    "\n",
    "        # log hyperparameters\n",
    "        self.save_hyperparameters()\n",
    "        self.input_shape = input_shape\n",
    "        self.num_classes = num_classes\n",
    "        self.learning_rate = learning_rate\n",
    "        self.pre_trained = pre_trained\n",
    "        self.params_to_update = []\n",
    "        \n",
    "        print(f'Use Pre-Training? {self.pre_trained}')\n",
    "        self.feature_extractor = models.resnet50(pretrained=self.pre_trained)\n",
    "        \n",
    "        self.feature_extractor.eval()\n",
    "        \n",
    "        for param in self.feature_extractor.parameters():\n",
    "            param.requires_grad = False\n",
    "            \n",
    "        n_sizes = self._get_conv_output(input_shape)\n",
    "        \n",
    "        self.classifier = nn.Linear(n_sizes, num_classes)\n",
    "  \n",
    "        # set CrossEntropy as the loss\n",
    "        self.criterion = nn.CrossEntropyLoss()\n",
    "        \n",
    "        # set Adam as the optimizer\n",
    "        self.optimizer = torch.optim.Adam(self.parameters(), lr=self.learning_rate)\n",
    "        \n",
    "        # set ExponentialLR as the scheduler\n",
    "        self.lr_scheduler = ExponentialLR(self.optimizer, gamma=0.99)\n",
    "        \n",
    "                    \n",
    "    # returns the size of the output tensor going into Linear layer from the conv block.\n",
    "    def _get_conv_output(self, shape):\n",
    "        batch_size = 1\n",
    "        input = torch.autograd.Variable(torch.rand(batch_size, *shape))\n",
    "\n",
    "        output_feat = self._forward_features(input) \n",
    "        n_size = output_feat.data.view(batch_size, -1).size(1)\n",
    "        return n_size\n",
    "    \n",
    "    # returns the feature tensor from the conv block\n",
    "    def _forward_features(self, x):\n",
    "        x = self.feature_extractor(x)\n",
    "        return x\n",
    "    \n",
    "        # will be used during inference\n",
    "    def forward(self, x):\n",
    "        x = self._forward_features(x)\n",
    "        x = x.view(x.size(0), -1)\n",
    "        x = F.log_softmax(self.classifier(x), dim=1)\n",
    "\n",
    "        return x\n",
    "    \n",
    "    # set the optimizer and the scheduler chosen\n",
    "    def configure_optimizers(self):\n",
    "        return [self.optimizer], [self.lr_scheduler]\n",
    "\n",
    "    # logic for a single training step\n",
    "    def training_step(self, batch, batch_idx):\n",
    "        x, y = batch\n",
    "        logits = self(x)\n",
    "        loss = self.criterion(logits, y)\n",
    "\n",
    "        # training metrics\n",
    "        preds = torch.argmax(logits, dim=1)\n",
    "        acc = accuracy(preds, y)\n",
    "        \n",
    "        self.log('train_loss', loss, on_step=True, on_epoch=True, logger=True)\n",
    "        self.log('train_acc', acc, on_step=True, on_epoch=True, logger=True)\n",
    "\n",
    "        return loss\n",
    "\n",
    "    # logic for a single validation step\n",
    "    def validation_step(self, batch, batch_idx):\n",
    "        x, y = batch\n",
    "        logits = self(x)\n",
    "        loss = self.criterion(logits, y)\n",
    "\n",
    "        # validation metrics\n",
    "        preds = torch.argmax(logits, dim=1)\n",
    "        acc = accuracy(preds, y)\n",
    "        \n",
    "        self.log('val_loss', loss, prog_bar=True)\n",
    "        self.log('val_acc', acc, prog_bar=True)\n",
    "        \n",
    "        return loss\n",
    "\n",
    "    # logic for a single testing step\n",
    "    def test_step(self, batch, batch_idx):\n",
    "        x, y = batch\n",
    "        logits = self(x)\n",
    "        loss = self.criterion(logits, y)\n",
    "\n",
    "        # validation metrics\n",
    "        preds = torch.argmax(logits, dim=1)\n",
    "        acc = accuracy(preds, y)\n",
    "        self.log('test_loss', loss, prog_bar=True)\n",
    "        self.log('test_acc', acc, prog_bar=True)\n",
    "        \n",
    "        return loss"
   ]
  },
  {
   "cell_type": "markdown",
   "id": "6de8bd1a",
   "metadata": {},
   "source": [
    "## Preparando os dados"
   ]
  },
  {
   "cell_type": "code",
   "execution_count": 9,
   "id": "6c9fc7e7",
   "metadata": {},
   "outputs": [
    {
     "name": "stdout",
     "output_type": "stream",
     "text": [
      "--------------------------------------------------\n",
      "Images available for train/val: 17097\n",
      "Classes available for train/val: 100\n",
      "\n",
      "Images available for test: 1030\n",
      "--------------------------------------------------\n"
     ]
    },
    {
     "data": {
      "text/plain": [
       "(torch.Size([128, 3, 224, 224]), torch.Size([128]))"
      ]
     },
     "execution_count": 9,
     "metadata": {},
     "output_type": "execute_result"
    }
   ],
   "source": [
    "# Initialize our data pipeline\n",
    "dm = DogDataModule(batch_size=128)\n",
    "\n",
    "# To access the x_dataloader we need to call prepare_data and setup.\n",
    "dm.prepare_data()\n",
    "dm.setup()\n",
    "\n",
    "# Samples required by the custom ImagePredictionLogger callback to log image predictions.\n",
    "val_samples = next(iter(dm.val_dataloader()))\n",
    "val_imgs, val_labels = val_samples[0], val_samples[1]\n",
    "val_imgs.shape, val_labels.shape"
   ]
  },
  {
   "cell_type": "markdown",
   "id": "0ec23337",
   "metadata": {},
   "source": [
    "### Plotando uma imagem aleatória para conferirmos nossos dados"
   ]
  },
  {
   "cell_type": "code",
   "execution_count": 10,
   "id": "f722e4e2",
   "metadata": {},
   "outputs": [
    {
     "name": "stdout",
     "output_type": "stream",
     "text": [
      "haired_fox_terrier\n"
     ]
    },
    {
     "data": {
      "image/png": "[encoded data removed]",
      "text/plain": [
       "<Figure size 432x288 with 1 Axes>"
      ]
     },
     "metadata": {
      "needs_background": "light"
     },
     "output_type": "display_data"
    }
   ],
   "source": [
    "# let's plot a random image from our train dataset\n",
    "dm.random_plot_train_data()"
   ]
  },
  {
   "cell_type": "markdown",
   "id": "26d5e049",
   "metadata": {},
   "source": [
    "---\n",
    "\n",
    "## Encontrando o melhor Learning Rate Inicial\n",
    "\n",
    "A ideia nesta etapa é utilizarmos o nosso **modelo**, o nosso **otimizador** e o nosso **loss**, para encontrarmos o melhor Learning Rate inicial possível. Para isso, é utilizado o método `find_lr`, disponível no início desse jupyter notebook. A ideia inicial era ter utilizado o `LR finder` do *Pytorch Lightning* ([link](https://pytorch-lightning.readthedocs.io/en/latest/advanced/lr_finder.html)), todavia o mesmo espera que o objeto da classe `Model` (`DogModel`, no nosso caso) possua métodos de retorno de `DataLoader`, tais como: `train_dataloader`, `val_dataloader` e `test_dataloader`. Neste código, optamos por deixar separado esses métodos mencionados, justamente para o modelo ser independente por si só. Com isso, implementamos tais métodos na classe `DogDataModule` e utilizamos um método definido neste notebook para realizar o papel do `LR finder`.\n",
    "\n"
   ]
  },
  {
   "cell_type": "code",
   "execution_count": 11,
   "id": "63f48086",
   "metadata": {},
   "outputs": [
    {
     "name": "stdout",
     "output_type": "stream",
     "text": [
      "Use Pre-Training? True\n"
     ]
    },
    {
     "name": "stderr",
     "output_type": "stream",
     "text": [
      "A:\\torch\\lib\\site-packages\\torch\\nn\\functional.py:718: UserWarning: Named tensors and all their associated APIs are an experimental feature and subject to change. Please do not use them for anything important until they are released as stable. (Triggered internally at  ..\\c10/core/TensorImpl.h:1156.)\n",
      "  return torch.max_pool2d(input, kernel_size, stride, padding, dilation, ceil_mode)\n"
     ]
    }
   ],
   "source": [
    "# primeiro passo é instanciar um modelo para encontrar o melhor lr utilizando o train_data_loader\n",
    "model = DogModel(dm.size(), dm.num_classes, pre_trained=True)"
   ]
  },
  {
   "cell_type": "markdown",
   "id": "db0ac48f",
   "metadata": {},
   "source": [
    "#### Atenção: a última execução levou em torno de 20 minutos para encontrar o melhor LR."
   ]
  },
  {
   "cell_type": "code",
   "execution_count": 12,
   "id": "9486e8f7",
   "metadata": {
    "scrolled": false
   },
   "outputs": [
    {
     "name": "stderr",
     "output_type": "stream",
     "text": [
      " 96%|██████████████████████████████████████████████████████████████████████████████████████████████████████████████████████████████████████████████████████████████████████▌      | 26/27 [09:21<00:21, 21.61s/it]\n"
     ]
    }
   ],
   "source": [
    "log_lrs, losses = find_lr(dm.val_dataloader(), model, model.optimizer, model.criterion)"
   ]
  },
  {
   "cell_type": "code",
   "execution_count": 13,
   "id": "7ff308c3",
   "metadata": {},
   "outputs": [
    {
     "data": {
      "text/plain": [
       "<Figure size 432x288 with 0 Axes>"
      ]
     },
     "metadata": {},
     "output_type": "display_data"
    },
    {
     "data": {
      "image/png": "[encoded data removed]",
      "text/plain": [
       "<Figure size 720x360 with 1 Axes>"
      ]
     },
     "metadata": {
      "needs_background": "light"
     },
     "output_type": "display_data"
    }
   ],
   "source": [
    "plot_loss(log_lrs, losses, output='./../reports/figures/resnet50_enhanced_lr_finder_validation.png')"
   ]
  },
  {
   "cell_type": "markdown",
   "id": "d3044bd4",
   "metadata": {},
   "source": [
    "## Criando nosso modelo *baseline* e definindo os *callbacks*\n",
    "\n",
    "**Atenção!**\n",
    "Perceba que foi utilizado a ferramenta [wandb](https://wandb.ai/) para acompanharmos o pipeline de treinamento dos modelos. Por isso é fundamental que o usuário que for executar esse notebook (e outros desse projeto), tenha criado uma conta e baixado corretamenta a ferramenta."
   ]
  },
  {
   "cell_type": "code",
   "execution_count": 14,
   "id": "6c9b2696",
   "metadata": {},
   "outputs": [],
   "source": [
    "early_stop_callback = EarlyStopping(\n",
    "   monitor='val_loss',\n",
    "   patience=10,\n",
    "   verbose=False,\n",
    "   mode='min'\n",
    ")"
   ]
  },
  {
   "cell_type": "code",
   "execution_count": 15,
   "id": "63521d3a",
   "metadata": {},
   "outputs": [
    {
     "name": "stderr",
     "output_type": "stream",
     "text": [
      "A:\\torch\\lib\\site-packages\\pytorch_lightning\\callbacks\\model_checkpoint.py:446: UserWarning: Checkpoint directory ./../models/ exists and is not empty.\n",
      "  rank_zero_warn(f\"Checkpoint directory {dirpath} exists and is not empty.\")\n"
     ]
    }
   ],
   "source": [
    "MODEL_CKPT_PATH = './../models/'\n",
    "MODEL_CKPT = 'resnet-50/save-{epoch:02d}-{val_loss:.2f}'\n",
    "\n",
    "checkpoint_callback = ModelCheckpoint(\n",
    "    monitor='val_loss',\n",
    "    dirpath=MODEL_CKPT_PATH,\n",
    "    filename=MODEL_CKPT ,\n",
    "    save_top_k=1,\n",
    "    mode='min')"
   ]
  },
  {
   "cell_type": "code",
   "execution_count": 21,
   "id": "2a272b6a",
   "metadata": {},
   "outputs": [
    {
     "name": "stdout",
     "output_type": "stream",
     "text": [
      "Use Pre-Training? True\n"
     ]
    }
   ],
   "source": [
    "# Init our model\n",
    "model = DogModel(dm.size(), dm.num_classes, learning_rate=1e-3, pre_trained=True)\n",
    "\n",
    "# Initialize wandb logger\n",
    "wandb_logger = WandbLogger(project='dog-breed-lightning', job_type='train')\n",
    "\n",
    "# Monitor to follow lr using wandb\n",
    "lr_monitor = LearningRateMonitor(logging_interval='epoch')"
   ]
  },
  {
   "cell_type": "code",
   "execution_count": 22,
   "id": "02235c27",
   "metadata": {},
   "outputs": [
    {
     "name": "stderr",
     "output_type": "stream",
     "text": [
      "GPU available: True, used: True\n",
      "TPU available: False, using: 0 TPU cores\n",
      "IPU available: False, using: 0 IPUs\n"
     ]
    }
   ],
   "source": [
    "# Initialize a trainer\n",
    "trainer = Trainer(logger=wandb_logger,\n",
    "                  default_root_dir='./logs/',\n",
    "                  gpus=[0],\n",
    "                  callbacks=[early_stop_callback,\n",
    "                             ImagePredictionLogger(val_samples),\n",
    "                             lr_monitor, checkpoint_callback])"
   ]
  },
  {
   "cell_type": "code",
   "execution_count": 23,
   "id": "d3db3543",
   "metadata": {},
   "outputs": [],
   "source": [
    "# log gradients and model topology\n",
    "wandb_logger.watch(model)"
   ]
  },
  {
   "cell_type": "markdown",
   "id": "7a7ce16e",
   "metadata": {},
   "source": [
    "# Acesse o treinamento da ResNet-50 - Model Enhanced (FC) clicando [aqui](https://wandb.ai/jrzmnt/dog-breed-lightning/reports/Dog-Breed-Recognition-ResNet-50-Enhanced--VmlldzoxMTI4OTUx?accessToken=m3tjxn2hd854uapd0jjdl6pf1ccjckgamdvx43hkvobtgi3qre1l74mm69b71ch0)!"
   ]
  },
  {
   "cell_type": "markdown",
   "id": "a368379d",
   "metadata": {},
   "source": [
    "### Treinando o Modelo"
   ]
  },
  {
   "cell_type": "code",
   "execution_count": 24,
   "id": "ae3bea01",
   "metadata": {
    "scrolled": false
   },
   "outputs": [
    {
     "name": "stderr",
     "output_type": "stream",
     "text": [
      "LOCAL_RANK: 0 - CUDA_VISIBLE_DEVICES: [0]\n",
      "\n",
      "  | Name              | Type             | Params\n",
      "-------------------------------------------------------\n",
      "0 | feature_extractor | ResNet           | 25.6 M\n",
      "1 | classifier        | Linear           | 100 K \n",
      "2 | criterion         | CrossEntropyLoss | 0     \n",
      "-------------------------------------------------------\n",
      "100 K     Trainable params\n",
      "25.6 M    Non-trainable params\n",
      "25.7 M    Total params\n",
      "102.629   Total estimated model params size (MB)\n"
     ]
    },
    {
     "data": {
      "application/vnd.jupyter.widget-view+json": {
       "model_id": "",
       "version_major": 2,
       "version_minor": 0
      },
      "text/plain": [
       "Validation sanity check: 0it [00:00, ?it/s]"
      ]
     },
     "metadata": {},
     "output_type": "display_data"
    },
    {
     "name": "stderr",
     "output_type": "stream",
     "text": [
      "A:\\torch\\lib\\site-packages\\deprecate\\deprecation.py:115: LightningDeprecationWarning: The `accuracy` was deprecated since v1.3.0 in favor of `torchmetrics.functional.classification.accuracy.accuracy`. It will be removed in v1.5.0.\n",
      "  stream(template_mgs % msg_args)\n",
      "A:\\torch\\lib\\site-packages\\pytorch_lightning\\trainer\\data_loading.py:106: UserWarning: The dataloader, train dataloader, does not have many workers which may be a bottleneck. Consider increasing the value of the `num_workers` argument` (try 4 which is the number of cpus on this machine) in the `DataLoader` init to improve performance.\n",
      "  f\"The dataloader, {name}, does not have many workers which may be a bottleneck.\"\n"
     ]
    },
    {
     "data": {
      "application/vnd.jupyter.widget-view+json": {
       "model_id": "83ae09ff176941e3ba817728ec8c6d40",
       "version_major": 2,
       "version_minor": 0
      },
      "text/plain": [
       "Training: -1it [00:00, ?it/s]"
      ]
     },
     "metadata": {},
     "output_type": "display_data"
    },
    {
     "data": {
      "application/vnd.jupyter.widget-view+json": {
       "model_id": "",
       "version_major": 2,
       "version_minor": 0
      },
      "text/plain": [
       "Validating: 0it [00:00, ?it/s]"
      ]
     },
     "metadata": {},
     "output_type": "display_data"
    },
    {
     "data": {
      "application/vnd.jupyter.widget-view+json": {
       "model_id": "",
       "version_major": 2,
       "version_minor": 0
      },
      "text/plain": [
       "Validating: 0it [00:00, ?it/s]"
      ]
     },
     "metadata": {},
     "output_type": "display_data"
    },
    {
     "data": {
      "application/vnd.jupyter.widget-view+json": {
       "model_id": "",
       "version_major": 2,
       "version_minor": 0
      },
      "text/plain": [
       "Validating: 0it [00:00, ?it/s]"
      ]
     },
     "metadata": {},
     "output_type": "display_data"
    },
    {
     "data": {
      "application/vnd.jupyter.widget-view+json": {
       "model_id": "",
       "version_major": 2,
       "version_minor": 0
      },
      "text/plain": [
       "Validating: 0it [00:00, ?it/s]"
      ]
     },
     "metadata": {},
     "output_type": "display_data"
    },
    {
     "data": {
      "application/vnd.jupyter.widget-view+json": {
       "model_id": "",
       "version_major": 2,
       "version_minor": 0
      },
      "text/plain": [
       "Validating: 0it [00:00, ?it/s]"
      ]
     },
     "metadata": {},
     "output_type": "display_data"
    },
    {
     "data": {
      "application/vnd.jupyter.widget-view+json": {
       "model_id": "",
       "version_major": 2,
       "version_minor": 0
      },
      "text/plain": [
       "Validating: 0it [00:00, ?it/s]"
      ]
     },
     "metadata": {},
     "output_type": "display_data"
    },
    {
     "data": {
      "application/vnd.jupyter.widget-view+json": {
       "model_id": "",
       "version_major": 2,
       "version_minor": 0
      },
      "text/plain": [
       "Validating: 0it [00:00, ?it/s]"
      ]
     },
     "metadata": {},
     "output_type": "display_data"
    },
    {
     "data": {
      "application/vnd.jupyter.widget-view+json": {
       "model_id": "",
       "version_major": 2,
       "version_minor": 0
      },
      "text/plain": [
       "Validating: 0it [00:00, ?it/s]"
      ]
     },
     "metadata": {},
     "output_type": "display_data"
    },
    {
     "data": {
      "application/vnd.jupyter.widget-view+json": {
       "model_id": "",
       "version_major": 2,
       "version_minor": 0
      },
      "text/plain": [
       "Validating: 0it [00:00, ?it/s]"
      ]
     },
     "metadata": {},
     "output_type": "display_data"
    },
    {
     "data": {
      "application/vnd.jupyter.widget-view+json": {
       "model_id": "",
       "version_major": 2,
       "version_minor": 0
      },
      "text/plain": [
       "Validating: 0it [00:00, ?it/s]"
      ]
     },
     "metadata": {},
     "output_type": "display_data"
    },
    {
     "data": {
      "application/vnd.jupyter.widget-view+json": {
       "model_id": "",
       "version_major": 2,
       "version_minor": 0
      },
      "text/plain": [
       "Validating: 0it [00:00, ?it/s]"
      ]
     },
     "metadata": {},
     "output_type": "display_data"
    },
    {
     "data": {
      "application/vnd.jupyter.widget-view+json": {
       "model_id": "",
       "version_major": 2,
       "version_minor": 0
      },
      "text/plain": [
       "Validating: 0it [00:00, ?it/s]"
      ]
     },
     "metadata": {},
     "output_type": "display_data"
    },
    {
     "data": {
      "application/vnd.jupyter.widget-view+json": {
       "model_id": "",
       "version_major": 2,
       "version_minor": 0
      },
      "text/plain": [
       "Validating: 0it [00:00, ?it/s]"
      ]
     },
     "metadata": {},
     "output_type": "display_data"
    },
    {
     "data": {
      "application/vnd.jupyter.widget-view+json": {
       "model_id": "",
       "version_major": 2,
       "version_minor": 0
      },
      "text/plain": [
       "Validating: 0it [00:00, ?it/s]"
      ]
     },
     "metadata": {},
     "output_type": "display_data"
    }
   ],
   "source": [
    "# Train the model\n",
    "trainer.fit(model, dm)"
   ]
  },
  {
   "cell_type": "code",
   "execution_count": 25,
   "id": "8cf987fb",
   "metadata": {
    "scrolled": false
   },
   "outputs": [
    {
     "data": {
      "text/html": [
       "<br/>Waiting for W&B process to finish, PID 6788... <strong style=\"color:green\">(success).</strong>"
      ],
      "text/plain": [
       "<IPython.core.display.HTML object>"
      ]
     },
     "metadata": {},
     "output_type": "display_data"
    },
    {
     "data": {
      "application/vnd.jupyter.widget-view+json": {
       "model_id": "",
       "version_major": 2,
       "version_minor": 0
      },
      "text/plain": [
       "VBox(children=(Label(value=' 38.77MB of 38.77MB uploaded (0.00MB deduped)\\r'), FloatProgress(value=1.0, max=1.…"
      ]
     },
     "metadata": {},
     "output_type": "display_data"
    },
    {
     "data": {
      "text/html": [
       "<style>\n",
       "    table.wandb td:nth-child(1) { padding: 0 10px; text-align: right }\n",
       "    .wandb-row { display: flex; flex-direction: row; flex-wrap: wrap; width: 100% }\n",
       "    .wandb-col { display: flex; flex-direction: column; flex-basis: 100%; flex: 1; padding: 10px; }\n",
       "    </style>\n",
       "<div class=\"wandb-row\"><div class=\"wandb-col\">\n",
       "<h3>Run history:</h3><br/><table class=\"wandb\"><tr><td>epoch</td><td>▁▁▁▂▂▂▂▂▂▃▃▃▃▃▄▄▄▄▄▄▅▅▅▅▅▅▆▆▆▆▆▆▇▇▇▇▇███</td></tr><tr><td>lr-Adam</td><td>█▇▇▆▆▅▅▄▄▃▃▂▂▁</td></tr><tr><td>train_acc_epoch</td><td>▁▆▆▇▇▇█▇▇█████</td></tr><tr><td>train_acc_step</td><td>▁▃▅▅▅▄▄▃▆▄█▅▇▆▇▆▅▇▅▆▅▅▅▆▅▇▆▆▇</td></tr><tr><td>train_loss_epoch</td><td>█▃▂▂▂▂▁▁▁▁▁▁▁▁</td></tr><tr><td>train_loss_step</td><td>██▅▄▅▅▅▆▂▄▁▃▂▄▁▃▃▁▆▂▄▄▄▂▄▁▃▂▂</td></tr><tr><td>trainer/global_step</td><td>▁▁▁▂▂▂▂▂▂▃▃▃▃▃▄▄▄▄▄▄▅▅▅▅▅▅▆▆▆▆▆▆▇▇▇▇▇███</td></tr><tr><td>val_acc</td><td>▁▆▅▇▇█▅▅▆█▄▅▆▅</td></tr><tr><td>val_loss</td><td>▇▃▃▁▃▃▄▅▅▅▆█▅█</td></tr></table><br/></div><div class=\"wandb-col\">\n",
       "<h3>Run summary:</h3><br/><table class=\"wandb\"><tr><td>epoch</td><td>13</td></tr><tr><td>lr-Adam</td><td>0.00088</td></tr><tr><td>train_acc_epoch</td><td>0.91307</td></tr><tr><td>train_acc_step</td><td>0.92969</td></tr><tr><td>train_loss_epoch</td><td>0.25893</td></tr><tr><td>train_loss_step</td><td>0.19955</td></tr><tr><td>trainer/global_step</td><td>1497</td></tr><tr><td>val_acc</td><td>0.85146</td></tr><tr><td>val_loss</td><td>0.52974</td></tr></table>\n",
       "</div></div>\n",
       "Synced 6 W&B file(s), 480 media file(s), 0 artifact file(s) and 0 other file(s)\n",
       "<br/>Synced <strong style=\"color:#cdcd00\">sandy-wind-21</strong>: <a href=\"https://wandb.ai/jrzmnt/dog-breed-lightning/runs/1is1s9w0\" target=\"_blank\">https://wandb.ai/jrzmnt/dog-breed-lightning/runs/1is1s9w0</a><br/>\n",
       "Find logs at: <code>.\\wandb\\run-20211017_233622-1is1s9w0\\logs</code><br/>\n"
      ],
      "text/plain": [
       "<IPython.core.display.HTML object>"
      ]
     },
     "metadata": {},
     "output_type": "display_data"
    }
   ],
   "source": [
    "# Close wandb run\n",
    "wandb.finish()"
   ]
  },
  {
   "cell_type": "markdown",
   "id": "82d61f91",
   "metadata": {},
   "source": [
    "### Importante!\n",
    "\n",
    "Sem o código da célula abaixo, não seriámos capazes de carregar os pesos deste treinamento (apesar do callback salvando os pesos)."
   ]
  },
  {
   "cell_type": "code",
   "execution_count": 26,
   "id": "11cea78f",
   "metadata": {},
   "outputs": [
    {
     "data": {
      "text/html": [
       "\n",
       "                    Syncing run <strong><a href=\"https://wandb.ai/jrzmnt/wandb-lightning/runs/36xbf1o1\" target=\"_blank\">earthy-energy-5</a></strong> to <a href=\"https://wandb.ai/jrzmnt/wandb-lightning\" target=\"_blank\">Weights & Biases</a> (<a href=\"https://docs.wandb.com/integrations/jupyter.html\" target=\"_blank\">docs</a>).<br/>\n",
       "\n",
       "                "
      ],
      "text/plain": [
       "<IPython.core.display.HTML object>"
      ]
     },
     "metadata": {},
     "output_type": "display_data"
    },
    {
     "name": "stderr",
     "output_type": "stream",
     "text": [
      "wandb: Adding directory to artifact (.\\..\\models)... Done. 9.4s\n"
     ]
    },
    {
     "data": {
      "text/html": [
       "<br/>Waiting for W&B process to finish, PID 9460... <strong style=\"color:green\">(success).</strong>"
      ],
      "text/plain": [
       "<IPython.core.display.HTML object>"
      ]
     },
     "metadata": {},
     "output_type": "display_data"
    },
    {
     "data": {
      "application/vnd.jupyter.widget-view+json": {
       "model_id": "",
       "version_major": 2,
       "version_minor": 0
      },
      "text/plain": [
       "VBox(children=(Label(value=' 297.94MB of 297.94MB uploaded (89.12MB deduped)\\r'), FloatProgress(value=1.0, max…"
      ]
     },
     "metadata": {},
     "output_type": "display_data"
    },
    {
     "data": {
      "text/html": [
       "<style>\n",
       "    table.wandb td:nth-child(1) { padding: 0 10px; text-align: right }\n",
       "    .wandb-row { display: flex; flex-direction: row; flex-wrap: wrap; width: 100% }\n",
       "    .wandb-col { display: flex; flex-direction: column; flex-basis: 100%; flex: 1; padding: 10px; }\n",
       "    </style>\n",
       "<div class=\"wandb-row\"><div class=\"wandb-col\">\n",
       "</div><div class=\"wandb-col\">\n",
       "</div></div>\n",
       "Synced 6 W&B file(s), 0 media file(s), 4 artifact file(s) and 0 other file(s)\n",
       "<br/>Synced <strong style=\"color:#cdcd00\">earthy-energy-5</strong>: <a href=\"https://wandb.ai/jrzmnt/wandb-lightning/runs/36xbf1o1\" target=\"_blank\">https://wandb.ai/jrzmnt/wandb-lightning/runs/36xbf1o1</a><br/>\n",
       "Find logs at: <code>.\\wandb\\run-20211018_003508-36xbf1o1\\logs</code><br/>\n"
      ],
      "text/plain": [
       "<IPython.core.display.HTML object>"
      ]
     },
     "metadata": {},
     "output_type": "display_data"
    }
   ],
   "source": [
    "run = wandb.init(project='wandb-lightning', job_type='producer')\n",
    "\n",
    "artifact = wandb.Artifact('model', type='model')\n",
    "artifact.add_dir(MODEL_CKPT_PATH)\n",
    "\n",
    "run.log_artifact(artifact)\n",
    "run.join()"
   ]
  },
  {
   "cell_type": "markdown",
   "id": "12927856",
   "metadata": {},
   "source": [
    "## Gerando Predição do Modelo (validation)"
   ]
  },
  {
   "cell_type": "code",
   "execution_count": 27,
   "id": "794edf01",
   "metadata": {},
   "outputs": [],
   "source": [
    "MODEL_CKPT_PATH = './../models/resnet-50/'"
   ]
  },
  {
   "cell_type": "code",
   "execution_count": 28,
   "id": "5fb5681f",
   "metadata": {},
   "outputs": [
    {
     "name": "stdout",
     "output_type": "stream",
     "text": [
      "save-epoch=03-val_loss=0.44.ckpt\n"
     ]
    }
   ],
   "source": [
    "model_ckpts = os.listdir(MODEL_CKPT_PATH)\n",
    "losses = []\n",
    "for model_ckpt in model_ckpts:\n",
    "    loss = re.findall(\"\\d+\\.\\d+\", model_ckpt)\n",
    "    losses.append(float(loss[0]))\n",
    "\n",
    "losses = np.array(losses)\n",
    "best_model_index = np.argsort(losses)[0]\n",
    "best_model = model_ckpts[best_model_index]\n",
    "print(best_model)"
   ]
  },
  {
   "cell_type": "code",
   "execution_count": 29,
   "id": "79b474ef",
   "metadata": {},
   "outputs": [
    {
     "name": "stdout",
     "output_type": "stream",
     "text": [
      "Use Pre-Training? True\n"
     ]
    }
   ],
   "source": [
    "inference_model = DogModel.load_from_checkpoint(MODEL_CKPT_PATH+'/'+best_model)"
   ]
  },
  {
   "cell_type": "code",
   "execution_count": 30,
   "id": "c54f316c",
   "metadata": {},
   "outputs": [],
   "source": [
    "from sklearn.metrics import accuracy_score\n",
    "\n",
    "def evaluate(model, loader):\n",
    "    model.eval()\n",
    "    y_true = []\n",
    "    y_pred = []\n",
    "    \n",
    "    y_true_batch = []\n",
    "    y_pred_batch = []\n",
    "    \n",
    "    batch = 0\n",
    "    \n",
    "    for imgs, labels in tqdm(loader):\n",
    "        batch += 1\n",
    "        logits = inference_model(imgs)\n",
    "\n",
    "        y_true.extend(labels)\n",
    "        y_pred.extend(np.argmax(logits.detach().numpy(), axis=1))\n",
    "        \n",
    "    print(f'Model Acc: {accuracy_score(y_true, y_pred)}')\n",
    "    \n",
    "    return np.array(y_true), np.array(y_pred)"
   ]
  },
  {
   "cell_type": "code",
   "execution_count": 31,
   "id": "d7fcb12b",
   "metadata": {
    "scrolled": false
   },
   "outputs": [
    {
     "name": "stderr",
     "output_type": "stream",
     "text": [
      "\n",
      "  0%|                                                                                                                                                                                      | 0/27 [00:00<?, ?it/s]\u001b[A\n",
      "  4%|██████▍                                                                                                                                                                       | 1/27 [00:20<08:50, 20.39s/it]\u001b[A\n",
      "  7%|████████████▉                                                                                                                                                                 | 2/27 [00:39<08:16, 19.84s/it]\u001b[A\n",
      " 11%|███████████████████▎                                                                                                                                                          | 3/27 [00:59<07:58, 19.95s/it]\u001b[A\n",
      " 15%|█████████████████████████▊                                                                                                                                                    | 4/27 [01:25<08:30, 22.22s/it]\u001b[A\n",
      " 19%|████████████████████████████████▏                                                                                                                                             | 5/27 [01:50<08:32, 23.28s/it]\u001b[A\n",
      " 22%|██████████████████████████████████████▋                                                                                                                                       | 6/27 [02:15<08:21, 23.86s/it]\u001b[A\n",
      " 26%|█████████████████████████████████████████████                                                                                                                                 | 7/27 [02:35<07:32, 22.64s/it]\u001b[A\n",
      " 30%|███████████████████████████████████████████████████▌                                                                                                                          | 8/27 [02:54<06:48, 21.50s/it]\u001b[A\n",
      " 33%|██████████████████████████████████████████████████████████                                                                                                                    | 9/27 [03:14<06:14, 20.79s/it]\u001b[A\n",
      " 37%|████████████████████████████████████████████████████████████████                                                                                                             | 10/27 [03:31<05:34, 19.65s/it]\u001b[A\n",
      " 41%|██████████████████████████████████████████████████████████████████████▍                                                                                                      | 11/27 [03:47<04:59, 18.73s/it]\u001b[A\n",
      " 44%|████████████████████████████████████████████████████████████████████████████▉                                                                                                | 12/27 [04:04<04:31, 18.13s/it]\u001b[A\n",
      " 48%|███████████████████████████████████████████████████████████████████████████████████▎                                                                                         | 13/27 [04:22<04:11, 17.97s/it]\u001b[A\n",
      " 52%|█████████████████████████████████████████████████████████████████████████████████████████▋                                                                                   | 14/27 [04:40<03:53, 17.93s/it]\u001b[A\n",
      " 56%|████████████████████████████████████████████████████████████████████████████████████████████████                                                                             | 15/27 [04:58<03:37, 18.16s/it]\u001b[A\n",
      " 59%|██████████████████████████████████████████████████████████████████████████████████████████████████████▌                                                                      | 16/27 [05:16<03:17, 17.95s/it]\u001b[A\n",
      " 63%|████████████████████████████████████████████████████████████████████████████████████████████████████████████▉                                                                | 17/27 [05:34<02:58, 17.90s/it]\u001b[A\n",
      " 67%|███████████████████████████████████████████████████████████████████████████████████████████████████████████████████▎                                                         | 18/27 [05:53<02:43, 18.22s/it]\u001b[A\n",
      " 70%|█████████████████████████████████████████████████████████████████████████████████████████████████████████████████████████▋                                                   | 19/27 [06:11<02:26, 18.35s/it]\u001b[A\n",
      " 74%|████████████████████████████████████████████████████████████████████████████████████████████████████████████████████████████████▏                                            | 20/27 [06:31<02:11, 18.82s/it]\u001b[A\n",
      " 78%|██████████████████████████████████████████████████████████████████████████████████████████████████████████████████████████████████████▌                                      | 21/27 [06:48<01:50, 18.36s/it]\u001b[A\n",
      " 81%|████████████████████████████████████████████████████████████████████████████████████████████████████████████████████████████████████████████▉                                | 22/27 [07:05<01:29, 17.84s/it]\u001b[A\n",
      " 85%|███████████████████████████████████████████████████████████████████████████████████████████████████████████████████████████████████████████████████▎                         | 23/27 [07:22<01:10, 17.55s/it]\u001b[A\n",
      " 89%|█████████████████████████████████████████████████████████████████████████████████████████████████████████████████████████████████████████████████████████▊                   | 24/27 [07:39<00:52, 17.42s/it]\u001b[A\n",
      " 93%|████████████████████████████████████████████████████████████████████████████████████████████████████████████████████████████████████████████████████████████████▏            | 25/27 [07:56<00:34, 17.33s/it]\u001b[A\n",
      " 96%|██████████████████████████████████████████████████████████████████████████████████████████████████████████████████████████████████████████████████████████████████████▌      | 26/27 [08:14<00:17, 17.56s/it]\u001b[A\n",
      "100%|█████████████████████████████████████████████████████████████████████████████████████████████████████████████████████████████████████████████████████████████████████████████| 27/27 [08:27<00:00, 18.79s/it]\u001b[A"
     ]
    },
    {
     "name": "stdout",
     "output_type": "stream",
     "text": [
      "Model Acc: 0.8587719298245614\n"
     ]
    },
    {
     "name": "stderr",
     "output_type": "stream",
     "text": [
      "\n"
     ]
    }
   ],
   "source": [
    "y_true, y_pred = evaluate(inference_model, dm.val_dataloader())"
   ]
  },
  {
   "cell_type": "markdown",
   "id": "4181c2c5",
   "metadata": {},
   "source": [
    "### Verificando a Acurácia do modelo"
   ]
  },
  {
   "cell_type": "code",
   "execution_count": 32,
   "id": "0c16d0ea",
   "metadata": {},
   "outputs": [
    {
     "data": {
      "text/plain": [
       "0.8587719298245614"
      ]
     },
     "execution_count": 32,
     "metadata": {},
     "output_type": "execute_result"
    }
   ],
   "source": [
    "accuracy_score(y_true, y_pred)"
   ]
  },
  {
   "cell_type": "code",
   "execution_count": 33,
   "id": "59462188",
   "metadata": {},
   "outputs": [],
   "source": [
    "results = [y_true, y_pred]\n",
    "file_path = './../reports/results/resnet50-validation-results-ytrue-ypred.npy'\n",
    "np.save(file_path, results)"
   ]
  },
  {
   "cell_type": "markdown",
   "id": "5d0b4894",
   "metadata": {},
   "source": [
    "---\n",
    "\n",
    "# Analisando o Resultado\n",
    "\n",
    "Os resultados do modelo **ResNet-18 Baseline** podem ser visualizados ao acessar o notebook **Dog-Breed-Results.ipynb** o qual esta localizado nesta pasta (`'./notebooks'`)."
   ]
  }
 ],
 "metadata": {
  "kernelspec": {
   "display_name": "TORCH",
   "language": "python",
   "name": "torch"
  },
  "language_info": {
   "codemirror_mode": {
    "name": "ipython",
    "version": 3
   },
   "file_extension": ".py",
   "mimetype": "text/x-python",
   "name": "python",
   "nbconvert_exporter": "python",
   "pygments_lexer": "ipython3",
   "version": "3.7.11"
  }
 },
 "nbformat": 4,
 "nbformat_minor": 5
}
