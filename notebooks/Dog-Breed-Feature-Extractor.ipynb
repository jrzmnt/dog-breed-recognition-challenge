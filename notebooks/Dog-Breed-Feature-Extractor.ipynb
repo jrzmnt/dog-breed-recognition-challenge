{
 "cells": [
  {
   "cell_type": "markdown",
   "id": "2509d416",
   "metadata": {},
   "source": [
    "# DOG BREED RECOGNITION\n",
    "\n",
    "<br>\n",
    "\n",
    "@author: Juarez Monteiro\n",
    "\n",
    "---\n",
    "\n",
    "### Este Notebook terá o objetivo de extrair as *features* dos dados de Enroll e Validação (ideia para enroll)\n",
    "\n",
    "Para isso iremos instanciar nosso modelo escolhido, gerar os DataLoaders necessários para Enroll e Treino, e por fim extrair as características do modelo. Neste problema utilizamos as 1000 features oriundas da FC da arquitetura ResNet. Mas, poderíamos ter optado por outras features ao longo da rede."
   ]
  },
  {
   "cell_type": "code",
   "execution_count": 1,
   "id": "f6ae2c9c",
   "metadata": {},
   "outputs": [
    {
     "name": "stderr",
     "output_type": "stream",
     "text": [
      "wandb: Currently logged in as: jrzmnt (use `wandb login --relogin` to force relogin)\n"
     ]
    }
   ],
   "source": [
    "# regular imports\n",
    "import os\n",
    "import re\n",
    "import numpy as np\n",
    "import random\n",
    "import matplotlib.pyplot as plt\n",
    "import math\n",
    "import logging\n",
    "import pickle\n",
    "from PIL import Image\n",
    "from tqdm import tqdm\n",
    "\n",
    "\n",
    "# sklearn imports\n",
    "from sklearn.model_selection import train_test_split\n",
    "from sklearn.metrics import accuracy_score\n",
    "\n",
    "# pytorch related imports\n",
    "import torch\n",
    "from torch import nn\n",
    "from torch.nn import functional as F\n",
    "from torch.utils.data import DataLoader, random_split\n",
    "from torch.utils.data import Dataset\n",
    "from torch.optim.lr_scheduler import ExponentialLR\n",
    "from torchvision import transforms\n",
    "from torchvision import models\n",
    "from torch.autograd import Variable\n",
    "\n",
    "# lightning related imports\n",
    "import pytorch_lightning as pl\n",
    "from pytorch_lightning.metrics.functional import accuracy\n",
    "from pytorch_lightning.callbacks import Callback\n",
    "from pytorch_lightning.callbacks.early_stopping import EarlyStopping\n",
    "from pytorch_lightning.loggers import WandbLogger\n",
    "from pytorch_lightning.callbacks import ModelCheckpoint, LearningRateMonitor\n",
    "from pytorch_lightning import Trainer\n",
    "\n",
    "\n",
    "# import wandb and login\n",
    "import wandb\n",
    "!wandb login"
   ]
  },
  {
   "cell_type": "code",
   "execution_count": 2,
   "id": "e44988c6",
   "metadata": {},
   "outputs": [],
   "source": [
    "class DogDataset(Dataset):\n",
    "\n",
    "    def __init__(self, file_list, class_dict, transform=None, phase=None):\n",
    "        self.file_list = file_list\n",
    "        self.class_dict = class_dict\n",
    "        self.transform = transform\n",
    "        self.phase = phase\n",
    "        print(file_list[0])\n",
    "\n",
    "    def __len__(self):\n",
    "        return len(self.file_list)\n",
    "    \n",
    "\n",
    "    def __getitem__(self, idx):\n",
    "        img_path = self.file_list[idx]\n",
    "        img = Image.open(img_path).convert('RGB')\n",
    "\n",
    "        # Transformimg Image\n",
    "        img_transformed = self.transform(img, self.phase)\n",
    "\n",
    "        # Get Label\n",
    "        label = img_path.split('\\\\')[0].split('-')[-1]\n",
    "        label_id = self.class_dict[label]\n",
    "\n",
    "        return img_transformed, label_id"
   ]
  },
  {
   "cell_type": "code",
   "execution_count": 3,
   "id": "0b0ea841",
   "metadata": {},
   "outputs": [],
   "source": [
    "class ImageTransform():\n",
    "\n",
    "    def __init__(self, img_size=224, mean=(0.485, 0.456, 0.406), std=(0.229, 0.224, 0.225)):\n",
    "\n",
    "        self.data_transform = {\n",
    "\n",
    "            'train': transforms.Compose([\n",
    "                transforms.RandomResizedCrop(img_size, scale=(0.5, 1.0)),\n",
    "                transforms.RandomHorizontalFlip(),\n",
    "                #transforms.RandomRotation(degrees=(0, 180)),\n",
    "                transforms.ToTensor(),\n",
    "                transforms.Normalize(mean, std)\n",
    "            ]),\n",
    "\n",
    "            'val': transforms.Compose([\n",
    "                transforms.Resize(256),\n",
    "                transforms.CenterCrop(img_size),\n",
    "                transforms.ToTensor(),\n",
    "                transforms.Normalize(mean, std)\n",
    "            ]),\n",
    "\n",
    "            'test': transforms.Compose([\n",
    "                transforms.Resize(256),\n",
    "                transforms.CenterCrop(img_size),\n",
    "                transforms.ToTensor(),\n",
    "                transforms.Normalize(mean, std)\n",
    "            ]),\n",
    "            \n",
    "            'train_enroll': transforms.Compose([\n",
    "                transforms.Resize(256),\n",
    "                transforms.CenterCrop(img_size),\n",
    "                transforms.ToTensor(),\n",
    "                transforms.Normalize(mean, std)\n",
    "            ])            \n",
    "            \n",
    "        }\n",
    "\n",
    "    def __call__(self, img, phase):\n",
    "\n",
    "        return self.data_transform[phase](img)"
   ]
  },
  {
   "cell_type": "code",
   "execution_count": 4,
   "id": "1bbf75e8",
   "metadata": {},
   "outputs": [],
   "source": [
    "class DogDataModule(pl.LightningDataModule):\n",
    "    def __init__(self, batch_size, data_dir: str = './../data/dogs/'):\n",
    "        super().__init__()\n",
    "        \n",
    "        # images and dataset\n",
    "        self.data_dir = data_dir\n",
    "        self.train_data_dir = data_dir + 'train/'\n",
    "        self.test_data_dir = data_dir + 'recognition/test/'\n",
    "        self.enroll_data_dir = data_dir + 'recognition/enroll/'\n",
    "        \n",
    "        self.batch_size = batch_size\n",
    "        self.dims = (3, 224, 224)\n",
    "        self.img_size = 224\n",
    "        self.num_classes = 100\n",
    "        self.class_dict = {}\n",
    "        self.enroll_class_dict = {}\n",
    "        \n",
    "        self.train_path_images = []\n",
    "        self.test_path_images = []\n",
    "        self.enroll_path_images = []\n",
    "        self.breeds = []\n",
    "        self.enroll_breeds = []\n",
    "\n",
    "        self.train_split_path = []\n",
    "        self.val_split_path = []\n",
    "        self.dog_train = []\n",
    "        self.dog_val = []\n",
    "        self.dog_test = []\n",
    "        self.dog_enroll = []\n",
    "        \n",
    "    def prepare_data(self):\n",
    "        \"\"\"Scan train_data_dir and test_data_dir to save all the train/test paths.\n",
    "           It also creates train_dict to map the classes available to a scalar.\n",
    "        \"\"\"\n",
    "        \n",
    "        # Scan all train/val images\n",
    "        for d in os.listdir(self.train_data_dir):\n",
    "            dog_dir = os.path.join(self.train_data_dir, d)\n",
    "    \n",
    "            for img in os.listdir(dog_dir):\n",
    "                img_path = os.path.join(dog_dir, img)\n",
    "                self.train_path_images.append(img_path)\n",
    "                self.breeds.append(img_path.split('\\\\')[0].split('-')[-1])\n",
    "            \n",
    "        self.breeds = set(self.breeds)\n",
    "        \n",
    "        for idx, breed in enumerate(self.breeds):\n",
    "            self.class_dict[breed] = idx\n",
    "        \n",
    "        # Scan all test images\n",
    "        for d in os.listdir(self.test_data_dir):\n",
    "            dog_dir = os.path.join(self.test_data_dir, d)\n",
    "    \n",
    "            for img in os.listdir(dog_dir):\n",
    "                img_path = os.path.join(dog_dir, img)\n",
    "                self.test_path_images.append(img_path)\n",
    "                self.enroll_breeds.append(img_path.split('\\\\')[0].split('-')[-1])\n",
    "                \n",
    "        \n",
    "        self.enroll_breeds = set(self.enroll_breeds)\n",
    "        \n",
    "        for idx, enroll_breed in enumerate(self.enroll_breeds):\n",
    "            self.enroll_class_dict[enroll_breed] = idx\n",
    "        \n",
    "        print(50*'-')\n",
    "        print(f'Images available for train/val: {len(self.train_path_images)}')\n",
    "        print(f'Classes available for train/val: {len(self.breeds)}')\n",
    "        print()\n",
    "        print(f'Images available for test: {len(self.test_path_images)}')\n",
    "        print(50*'-')\n",
    "        \n",
    "        \n",
    "    def prepare_enroll_data(self, ):\n",
    "        \"\"\"Scan enroll_data_dir to save all the enroll paths.\n",
    "           It also creates enroll_dict to map the classes available to a scalar.\n",
    "        \"\"\"\n",
    "        \n",
    "        # Scan all enroll images\n",
    "        for d in os.listdir(self.enroll_data_dir):\n",
    "            dog_dir = os.path.join(self.enroll_data_dir, d)\n",
    "    \n",
    "            for img in os.listdir(dog_dir):\n",
    "                img_path = os.path.join(dog_dir, img)\n",
    "                self.enroll_path_images.append(img_path)\n",
    "                self.enroll_breeds.append(img_path.split('\\\\')[0].split('-')[-1])\n",
    "            \n",
    "        self.enroll_breeds = set(self.enroll_breeds)\n",
    "        \n",
    "        for idx, enroll_breed in enumerate(self.enroll_breeds):\n",
    "            self.enroll_class_dict[enroll_breed] = idx\n",
    "            \n",
    "        \n",
    "    \n",
    "    def setup(self, stage=None, enroll=False):\n",
    "        \"\"\"Creates DogDataset objects, depends on which stage was passed\n",
    "\n",
    "        Parameters\n",
    "        ----------\n",
    "        stage : string (optional)\n",
    "            Name of the actual stage ('fit' or 'test')\n",
    "        \"\"\"\n",
    "        \n",
    "        # Assign train/val datasets for use in dataloaders\n",
    "        if stage == 'fit' or stage is None:\n",
    "            \n",
    "            self.train_split_path, self.val_split_path = train_test_split(self.train_path_images, test_size=0.2)\n",
    "\n",
    "            self.dog_train = DogDataset(self.train_split_path,\n",
    "                                        self.class_dict,\n",
    "                                        ImageTransform(self.img_size),\n",
    "                                        phase='train')\n",
    "\n",
    "            self.dog_val = DogDataset(self.val_split_path,\n",
    "                                      self.class_dict,\n",
    "                                      ImageTransform(self.img_size),\n",
    "                                      phase='val')\n",
    "                    \n",
    "        # Assign enroll dataset for use in dataloader(s)\n",
    "        if stage == 'test':\n",
    "            \n",
    "            if enroll:\n",
    "                self.dog_enroll = DogDataset(self.enroll_path_images,\n",
    "                                          self.enroll_class_dict,\n",
    "                                          ImageTransform(self.img_size),\n",
    "                                          phase='test')\n",
    "                \n",
    "            else:\n",
    "                self.dog_test = DogDataset(self.test_path_images,\n",
    "                                          self.enroll_class_dict,\n",
    "                                          ImageTransform(self.img_size),\n",
    "                                          phase='test')\n",
    "\n",
    "        \n",
    "            \n",
    "    def random_plot_enroll_data(self):\n",
    "        \"\"\"Randomly pick an image from enroll_path_images to plot in the screen.\n",
    "\n",
    "        \"\"\"\n",
    "        img_path = random.choice(self.enroll_path_images)\n",
    "        img = Image.open(img_path)\n",
    "        breed = img_path.split('\\\\')[0].split('-')[-1]\n",
    "        \n",
    "        print(breed)\n",
    "\n",
    "        plt.imshow(img)\n",
    "        plt.axis('off')\n",
    "        plt.title(breed)\n",
    "        plt.show()        \n",
    "    \n",
    "    \n",
    "    def random_plot_train_data(self):\n",
    "        \"\"\"Randomly pick an image from train_path_images to plot in the screen.\n",
    "        \n",
    "        \"\"\"\n",
    "        img_path = random.choice(self.train_path_images)\n",
    "        img = Image.open(img_path)\n",
    "        breed = img_path.split('\\\\')[0].split('-')[-1]\n",
    "        \n",
    "        print(breed)\n",
    "\n",
    "        plt.imshow(img)\n",
    "        plt.axis('off')\n",
    "        plt.title(breed)\n",
    "        plt.show()\n",
    "    \n",
    "    def train_dataloader(self):\n",
    "        return DataLoader(self.dog_train, batch_size=self.batch_size, shuffle=True)\n",
    "    \n",
    "    \n",
    "    def val_dataloader(self):\n",
    "        return DataLoader(self.dog_val, batch_size=self.batch_size, shuffle=False)\n",
    "    \n",
    "    \n",
    "    def test_dataloader(self):\n",
    "        return DataLoader(self.dog_test, batch_size=self.batch_size, shuffle=False)\n",
    "    \n",
    "    \n",
    "    def enroll_dataloader(self):\n",
    "        return DataLoader(self.dog_enroll, batch_size=self.batch_size, shuffle=False)\n"
   ]
  },
  {
   "cell_type": "code",
   "execution_count": 5,
   "id": "65681eda",
   "metadata": {},
   "outputs": [],
   "source": [
    "class DogModel(pl.LightningModule):\n",
    "    \n",
    "    def __init__(self, input_shape, num_classes, learning_rate=2e-4, pre_trained=False):\n",
    "        super().__init__()\n",
    "\n",
    "        # log hyperparameters\n",
    "        self.save_hyperparameters()\n",
    "        self.input_shape = input_shape\n",
    "        self.num_classes = num_classes\n",
    "        self.learning_rate = learning_rate\n",
    "        self.pre_trained = pre_trained\n",
    "        self.params_to_update = []\n",
    "        \n",
    "        print(f'Use Pre-Training? {self.pre_trained}')\n",
    "        self.feature_extractor = models.resnet50(pretrained=self.pre_trained)\n",
    "        \n",
    "        self.feature_extractor.eval()\n",
    "        \n",
    "        for param in self.feature_extractor.parameters():\n",
    "            param.requires_grad = False\n",
    "            \n",
    "        n_sizes = self._get_conv_output(input_shape)        \n",
    "        self.classifier = nn.Linear(n_sizes, num_classes)\n",
    "      \n",
    "        # set CrossEntropy as the loss\n",
    "        self.criterion = nn.CrossEntropyLoss()\n",
    "        \n",
    "        # set Adam as the optimizer\n",
    "        self.optimizer = torch.optim.Adam(self.parameters(), lr=self.learning_rate)\n",
    "        \n",
    "        # set ExponentialLR as the scheduler\n",
    "        self.lr_scheduler = ExponentialLR(self.optimizer, gamma=0.99)\n",
    "        \n",
    "                    \n",
    "    # returns the size of the output tensor going into Linear layer from the conv block.\n",
    "    def _get_conv_output(self, shape):\n",
    "        batch_size = 1\n",
    "        input = torch.autograd.Variable(torch.rand(batch_size, *shape))\n",
    "\n",
    "        output_feat = self._forward_features(input) \n",
    "        n_size = output_feat.data.view(batch_size, -1).size(1)\n",
    "        return n_size\n",
    "    \n",
    "    # returns the feature tensor from the conv block\n",
    "    def _forward_features(self, x):\n",
    "        x = self.feature_extractor(x)\n",
    "        return x\n",
    "    \n",
    "        # will be used during inference\n",
    "    def forward(self, x):\n",
    "        x = self._forward_features(x)\n",
    "        x = x.view(x.size(0), -1)\n",
    "        x = F.log_softmax(self.classifier(x), dim=1)\n",
    "\n",
    "        return x\n",
    "    \n",
    "#     # infer x using self.net\n",
    "#     def forward(self, x):\n",
    "#         x = self.net(x)\n",
    "#         return x\n",
    "    \n",
    "    # set the optimizer and the scheduler chosen\n",
    "    def configure_optimizers(self):\n",
    "        return [self.optimizer], [self.lr_scheduler]\n",
    "\n",
    "    # logic for a single training step\n",
    "    def training_step(self, batch, batch_idx):\n",
    "        x, y = batch\n",
    "        logits = self(x)\n",
    "        loss = self.criterion(logits, y)\n",
    "\n",
    "        # training metrics\n",
    "        preds = torch.argmax(logits, dim=1)\n",
    "        acc = accuracy(preds, y)\n",
    "        \n",
    "        self.log('train_loss', loss, on_step=True, on_epoch=True, logger=True)\n",
    "        self.log('train_acc', acc, on_step=True, on_epoch=True, logger=True)\n",
    "\n",
    "        return loss\n",
    "\n",
    "    # logic for a single validation step\n",
    "    def validation_step(self, batch, batch_idx):\n",
    "        x, y = batch\n",
    "        logits = self(x)\n",
    "        loss = self.criterion(logits, y)\n",
    "\n",
    "        # validation metrics\n",
    "        preds = torch.argmax(logits, dim=1)\n",
    "        acc = accuracy(preds, y)\n",
    "        \n",
    "        self.log('val_loss', loss, prog_bar=True)\n",
    "        self.log('val_acc', acc, prog_bar=True)\n",
    "        \n",
    "        return loss\n",
    "\n",
    "    # logic for a single testing step\n",
    "    def test_step(self, batch, batch_idx):\n",
    "        x, y = batch\n",
    "        logits = self(x)\n",
    "        loss = self.criterion(logits, y)\n",
    "\n",
    "        # validation metrics\n",
    "        preds = torch.argmax(logits, dim=1)\n",
    "        acc = accuracy(preds, y)\n",
    "        self.log('test_loss', loss, prog_bar=True)\n",
    "        self.log('test_acc', acc, prog_bar=True)\n",
    "        \n",
    "        return loss"
   ]
  },
  {
   "cell_type": "code",
   "execution_count": 6,
   "id": "91f1a9e4",
   "metadata": {},
   "outputs": [],
   "source": [
    "def feature_extractor(model, loader):\n",
    "    model.eval()\n",
    "    label_list = []\n",
    "    features_list = []\n",
    "    \n",
    "    for imgs, labels in tqdm(loader):\n",
    "        features = model._forward_features(imgs)\n",
    "        label_list.extend(labels)\n",
    "        features_list.append(features)\n",
    "        \n",
    "        \n",
    "    print(f'features: {len(features_list)}, labels: {len(label_list)}')\n",
    "    \n",
    "    return features_list, label_list"
   ]
  },
  {
   "cell_type": "markdown",
   "id": "55a7d61a",
   "metadata": {},
   "source": [
    "## Iniciaremos carregando nosso DataModule"
   ]
  },
  {
   "cell_type": "code",
   "execution_count": 7,
   "id": "ea09f407",
   "metadata": {},
   "outputs": [
    {
     "name": "stdout",
     "output_type": "stream",
     "text": [
      "./../data/dogs/recognition/enroll/n02087394-Rhodesian_ridgeback\\n02087394_10014.jpg\n"
     ]
    },
    {
     "data": {
      "text/plain": [
       "(torch.Size([64, 3, 224, 224]), torch.Size([64]))"
      ]
     },
     "execution_count": 7,
     "metadata": {},
     "output_type": "execute_result"
    }
   ],
   "source": [
    "# Initialize our data pipeline\n",
    "dm = DogDataModule(batch_size=64)\n",
    "\n",
    "# To access the x_dataloader we need to call prepare_data and setup.\n",
    "dm.prepare_enroll_data()\n",
    "dm.setup(stage='test', enroll=True)\n",
    "\n",
    "# Samples required by the custom ImagePredictionLogger callback to log image predictions.\n",
    "enroll_samples = next(iter(dm.enroll_dataloader()))\n",
    "enroll_imgs, enroll_labels = enroll_samples[0], enroll_samples[1]\n",
    "enroll_imgs.shape, enroll_labels.shape"
   ]
  },
  {
   "cell_type": "code",
   "execution_count": 8,
   "id": "e7d40b25",
   "metadata": {},
   "outputs": [
    {
     "name": "stdout",
     "output_type": "stream",
     "text": [
      "miniature_schnauzer\n"
     ]
    },
    {
     "data": {
      "image/png": "[encoded data removed]",
      "text/plain": [
       "<Figure size 432x288 with 1 Axes>"
      ]
     },
     "metadata": {
      "needs_background": "light"
     },
     "output_type": "display_data"
    }
   ],
   "source": [
    "# let's plot a random image from our train dataset\n",
    "dm.random_plot_enroll_data()"
   ]
  },
  {
   "cell_type": "markdown",
   "id": "0a8fb886",
   "metadata": {},
   "source": [
    "## Verificando os rótulos do problema de enroll"
   ]
  },
  {
   "cell_type": "code",
   "execution_count": 9,
   "id": "098acc53",
   "metadata": {
    "scrolled": true
   },
   "outputs": [
    {
     "data": {
      "text/plain": [
       "['n02087394-Rhodesian_ridgeback',\n",
       " 'n02090379-redbone',\n",
       " 'n02092002-Scottish_deerhound',\n",
       " 'n02093859-Kerry_blue_terrier',\n",
       " 'n02094258-Norwich_terrier',\n",
       " 'n02096294-Australian_terrier',\n",
       " 'n02097047-miniature_schnauzer',\n",
       " 'n02098286-West_Highland_white_terrier',\n",
       " 'n02099429-curly-coated_retriever',\n",
       " 'n02099601-golden_retriever',\n",
       " 'n02102040-English_springer',\n",
       " 'n02105056-groenendael',\n",
       " 'n02106550-Rottweiler',\n",
       " 'n02107683-Bernese_mountain_dog',\n",
       " 'n02109961-Eskimo_dog',\n",
       " 'n02111500-Great_Pyrenees',\n",
       " 'n02111889-Samoyed',\n",
       " 'n02113186-Cardigan',\n",
       " 'n02113978-Mexican_hairless',\n",
       " 'n02116738-African_hunting_dog']"
      ]
     },
     "execution_count": 9,
     "metadata": {},
     "output_type": "execute_result"
    }
   ],
   "source": [
    "os.listdir('./../data/dogs/recognition/enroll')"
   ]
  },
  {
   "cell_type": "code",
   "execution_count": 10,
   "id": "dd8e97c0",
   "metadata": {},
   "outputs": [
    {
     "data": {
      "text/plain": [
       "{'West_Highland_white_terrier': 0,\n",
       " 'groenendael': 1,\n",
       " 'Scottish_deerhound': 2,\n",
       " 'Kerry_blue_terrier': 3,\n",
       " 'Rhodesian_ridgeback': 4,\n",
       " 'African_hunting_dog': 5,\n",
       " 'golden_retriever': 6,\n",
       " 'Eskimo_dog': 7,\n",
       " 'Norwich_terrier': 8,\n",
       " 'Cardigan': 9,\n",
       " 'English_springer': 10,\n",
       " 'Samoyed': 11,\n",
       " 'Great_Pyrenees': 12,\n",
       " 'Bernese_mountain_dog': 13,\n",
       " 'redbone': 14,\n",
       " 'Australian_terrier': 15,\n",
       " 'Mexican_hairless': 16,\n",
       " 'Rottweiler': 17,\n",
       " 'coated_retriever': 18,\n",
       " 'miniature_schnauzer': 19}"
      ]
     },
     "execution_count": 10,
     "metadata": {},
     "output_type": "execute_result"
    }
   ],
   "source": [
    "dm.enroll_class_dict"
   ]
  },
  {
   "cell_type": "markdown",
   "id": "0f1157a6",
   "metadata": {},
   "source": [
    "## Carregando o melhor modelo para extrair as features"
   ]
  },
  {
   "cell_type": "code",
   "execution_count": 11,
   "id": "85b4f2c7",
   "metadata": {},
   "outputs": [],
   "source": [
    "MODEL_CKPT_PATH = './../models/resnet-50'"
   ]
  },
  {
   "cell_type": "code",
   "execution_count": 12,
   "id": "53859a19",
   "metadata": {},
   "outputs": [
    {
     "name": "stdout",
     "output_type": "stream",
     "text": [
      "save-epoch=03-val_loss=0.44.ckpt\n"
     ]
    }
   ],
   "source": [
    "model_ckpts = os.listdir(MODEL_CKPT_PATH)\n",
    "losses = []\n",
    "for model_ckpt in model_ckpts:\n",
    "    loss = re.findall(\"\\d+\\.\\d+\", model_ckpt)\n",
    "    losses.append(float(loss[0]))\n",
    "\n",
    "losses = np.array(losses)\n",
    "best_model_index = np.argsort(losses)[0]\n",
    "best_model = model_ckpts[best_model_index]\n",
    "print(best_model)"
   ]
  },
  {
   "cell_type": "code",
   "execution_count": 13,
   "id": "b326a283",
   "metadata": {
    "scrolled": false
   },
   "outputs": [
    {
     "name": "stdout",
     "output_type": "stream",
     "text": [
      "Use Pre-Training? True\n"
     ]
    },
    {
     "name": "stderr",
     "output_type": "stream",
     "text": [
      "A:\\torch\\lib\\site-packages\\torch\\nn\\functional.py:718: UserWarning: Named tensors and all their associated APIs are an experimental feature and subject to change. Please do not use them for anything important until they are released as stable. (Triggered internally at  ..\\c10/core/TensorImpl.h:1156.)\n",
      "  return torch.max_pool2d(input, kernel_size, stride, padding, dilation, ceil_mode)\n"
     ]
    }
   ],
   "source": [
    "model = DogModel.load_from_checkpoint(MODEL_CKPT_PATH+'/'+best_model)"
   ]
  },
  {
   "cell_type": "markdown",
   "id": "a5cf301c",
   "metadata": {},
   "source": [
    "## Extraindo Features do *Train Enroll*"
   ]
  },
  {
   "cell_type": "markdown",
   "id": "61e93e69",
   "metadata": {},
   "source": [
    "### Imagem insconsistente \n",
    "\n",
    "n02111889-Samoyed\\\\n02111889_3400.jpg"
   ]
  },
  {
   "cell_type": "code",
   "execution_count": 14,
   "id": "075ba4db",
   "metadata": {
    "scrolled": true
   },
   "outputs": [
    {
     "name": "stderr",
     "output_type": "stream",
     "text": [
      "100%|█████████████████████████████████████████████████████████████████████████████████████████████████████████████████████████████████████████████████████████████████████████████| 39/39 [05:43<00:00,  8.82s/it]"
     ]
    },
    {
     "name": "stdout",
     "output_type": "stream",
     "text": [
      "features: 39, labels: 2444\n"
     ]
    },
    {
     "name": "stderr",
     "output_type": "stream",
     "text": [
      "\n"
     ]
    }
   ],
   "source": [
    "enroll_features, enroll_labels = feature_extractor(model, dm.enroll_dataloader())"
   ]
  },
  {
   "cell_type": "code",
   "execution_count": 15,
   "id": "bca7533f",
   "metadata": {},
   "outputs": [
    {
     "data": {
      "text/plain": [
       "{'West_Highland_white_terrier': 0,\n",
       " 'groenendael': 1,\n",
       " 'Scottish_deerhound': 2,\n",
       " 'Kerry_blue_terrier': 3,\n",
       " 'Rhodesian_ridgeback': 4,\n",
       " 'African_hunting_dog': 5,\n",
       " 'golden_retriever': 6,\n",
       " 'Eskimo_dog': 7,\n",
       " 'Norwich_terrier': 8,\n",
       " 'Cardigan': 9,\n",
       " 'English_springer': 10,\n",
       " 'Samoyed': 11,\n",
       " 'Great_Pyrenees': 12,\n",
       " 'Bernese_mountain_dog': 13,\n",
       " 'redbone': 14,\n",
       " 'Australian_terrier': 15,\n",
       " 'Mexican_hairless': 16,\n",
       " 'Rottweiler': 17,\n",
       " 'coated_retriever': 18,\n",
       " 'miniature_schnauzer': 19}"
      ]
     },
     "execution_count": 15,
     "metadata": {},
     "output_type": "execute_result"
    }
   ],
   "source": [
    "dm.enroll_class_dict"
   ]
  },
  {
   "cell_type": "code",
   "execution_count": 16,
   "id": "74208691",
   "metadata": {},
   "outputs": [],
   "source": [
    "_enroll_features = []\n",
    "\n",
    "for batch in enroll_features:\n",
    "    for image in batch:\n",
    "        _enroll_features.append(image)"
   ]
  },
  {
   "cell_type": "code",
   "execution_count": 17,
   "id": "f66bd6d9",
   "metadata": {
    "scrolled": true
   },
   "outputs": [
    {
     "name": "stderr",
     "output_type": "stream",
     "text": [
      "A:\\torch\\lib\\site-packages\\ipykernel_launcher.py:1: FutureWarning: The input object of type 'Tensor' is an array-like implementing one of the corresponding protocols (`__array__`, `__array_interface__` or `__array_struct__`); but not a sequence (or 0-D). In the future, this object will be coerced as if it was first converted using `np.array(obj)`. To retain the old behaviour, you have to either modify the type 'Tensor', or assign to an empty array created with `np.empty(correct_shape, dtype=object)`.\n",
      "  \"\"\"Entry point for launching an IPython kernel.\n"
     ]
    }
   ],
   "source": [
    "_enroll_features = np.asarray(_enroll_features, dtype=object)\n",
    "enroll_labels = np.array(enroll_labels)"
   ]
  },
  {
   "cell_type": "code",
   "execution_count": 18,
   "id": "9e9d50aa",
   "metadata": {},
   "outputs": [
    {
     "name": "stderr",
     "output_type": "stream",
     "text": [
      "A:\\torch\\lib\\site-packages\\ipykernel_launcher.py:1: VisibleDeprecationWarning: Creating an ndarray from ragged nested sequences (which is a list-or-tuple of lists-or-tuples-or ndarrays with different lengths or shapes) is deprecated. If you meant to do this, you must specify 'dtype=object' when creating the ndarray.\n",
      "  \"\"\"Entry point for launching an IPython kernel.\n"
     ]
    }
   ],
   "source": [
    "enroll_features_labels = np.array([_enroll_features, enroll_labels, dm.enroll_class_dict])"
   ]
  },
  {
   "cell_type": "code",
   "execution_count": 19,
   "id": "985aab40",
   "metadata": {},
   "outputs": [],
   "source": [
    "file_path = './../data/resnet50-train_enroll_features.pickle'\n",
    "\n",
    "with open(file_path, 'wb') as handle:\n",
    "    pickle.dump(enroll_features_labels, handle, protocol=pickle.HIGHEST_PROTOCOL)"
   ]
  },
  {
   "cell_type": "markdown",
   "id": "39fcbfb0",
   "metadata": {},
   "source": [
    "## Extraindo Features do *Test Enroll*"
   ]
  },
  {
   "cell_type": "code",
   "execution_count": 20,
   "id": "a2208247",
   "metadata": {},
   "outputs": [
    {
     "name": "stdout",
     "output_type": "stream",
     "text": [
      "--------------------------------------------------\n",
      "Images available for train/val: 17097\n",
      "Classes available for train/val: 100\n",
      "\n",
      "Images available for test: 1030\n",
      "--------------------------------------------------\n",
      "./../data/dogs/recognition/test/n02087394-Rhodesian_ridgeback\\n02087394_101.jpg\n"
     ]
    },
    {
     "data": {
      "text/plain": [
       "(torch.Size([64, 3, 224, 224]), torch.Size([64]))"
      ]
     },
     "execution_count": 20,
     "metadata": {},
     "output_type": "execute_result"
    }
   ],
   "source": [
    "# Initialize our data pipeline\n",
    "dm = DogDataModule(batch_size=64)\n",
    "\n",
    "# To access the x_dataloader we need to call prepare_data and setup.\n",
    "dm.prepare_data()\n",
    "dm.setup(stage='test')\n",
    "\n",
    "# Samples required by the custom ImagePredictionLogger callback to log image predictions.\n",
    "test_samples = next(iter(dm.test_dataloader()))\n",
    "test_imgs, test_labels = enroll_samples[0], enroll_samples[1]\n",
    "test_imgs.shape, test_labels.shape"
   ]
  },
  {
   "cell_type": "code",
   "execution_count": 21,
   "id": "aff29806",
   "metadata": {},
   "outputs": [
    {
     "name": "stderr",
     "output_type": "stream",
     "text": [
      "100%|█████████████████████████████████████████████████████████████████████████████████████████████████████████████████████████████████████████████████████████████████████████████| 17/17 [02:28<00:00,  8.76s/it]"
     ]
    },
    {
     "name": "stdout",
     "output_type": "stream",
     "text": [
      "features: 17, labels: 1030\n"
     ]
    },
    {
     "name": "stderr",
     "output_type": "stream",
     "text": [
      "\n"
     ]
    }
   ],
   "source": [
    "test_enroll_features, test_enroll_labels = feature_extractor(model, dm.test_dataloader())"
   ]
  },
  {
   "cell_type": "code",
   "execution_count": 22,
   "id": "505a2ab6",
   "metadata": {},
   "outputs": [
    {
     "data": {
      "text/plain": [
       "{'West_Highland_white_terrier': 0,\n",
       " 'groenendael': 1,\n",
       " 'Scottish_deerhound': 2,\n",
       " 'Kerry_blue_terrier': 3,\n",
       " 'Rhodesian_ridgeback': 4,\n",
       " 'African_hunting_dog': 5,\n",
       " 'golden_retriever': 6,\n",
       " 'Eskimo_dog': 7,\n",
       " 'Norwich_terrier': 8,\n",
       " 'Cardigan': 9,\n",
       " 'English_springer': 10,\n",
       " 'Samoyed': 11,\n",
       " 'Great_Pyrenees': 12,\n",
       " 'Bernese_mountain_dog': 13,\n",
       " 'redbone': 14,\n",
       " 'Australian_terrier': 15,\n",
       " 'Mexican_hairless': 16,\n",
       " 'Rottweiler': 17,\n",
       " 'coated_retriever': 18,\n",
       " 'miniature_schnauzer': 19}"
      ]
     },
     "execution_count": 22,
     "metadata": {},
     "output_type": "execute_result"
    }
   ],
   "source": [
    "dm.enroll_class_dict"
   ]
  },
  {
   "cell_type": "code",
   "execution_count": 23,
   "id": "e8fdc64a",
   "metadata": {},
   "outputs": [],
   "source": [
    "_test_enroll_features = []\n",
    "\n",
    "for batch in test_enroll_features:\n",
    "    for image in batch:\n",
    "        _test_enroll_features.append(image)"
   ]
  },
  {
   "cell_type": "code",
   "execution_count": 24,
   "id": "69239052",
   "metadata": {},
   "outputs": [
    {
     "name": "stderr",
     "output_type": "stream",
     "text": [
      "A:\\torch\\lib\\site-packages\\ipykernel_launcher.py:1: FutureWarning: The input object of type 'Tensor' is an array-like implementing one of the corresponding protocols (`__array__`, `__array_interface__` or `__array_struct__`); but not a sequence (or 0-D). In the future, this object will be coerced as if it was first converted using `np.array(obj)`. To retain the old behaviour, you have to either modify the type 'Tensor', or assign to an empty array created with `np.empty(correct_shape, dtype=object)`.\n",
      "  \"\"\"Entry point for launching an IPython kernel.\n"
     ]
    }
   ],
   "source": [
    "_test_enroll_features = np.asarray(_test_enroll_features, dtype=object)\n",
    "test_enroll_labels = np.array(test_enroll_labels)"
   ]
  },
  {
   "cell_type": "code",
   "execution_count": 25,
   "id": "3ea288ba",
   "metadata": {},
   "outputs": [
    {
     "name": "stderr",
     "output_type": "stream",
     "text": [
      "A:\\torch\\lib\\site-packages\\ipykernel_launcher.py:1: VisibleDeprecationWarning: Creating an ndarray from ragged nested sequences (which is a list-or-tuple of lists-or-tuples-or ndarrays with different lengths or shapes) is deprecated. If you meant to do this, you must specify 'dtype=object' when creating the ndarray.\n",
      "  \"\"\"Entry point for launching an IPython kernel.\n"
     ]
    }
   ],
   "source": [
    "test_enroll_features_labels = np.array([_test_enroll_features, test_enroll_labels, dm.enroll_class_dict])"
   ]
  },
  {
   "cell_type": "code",
   "execution_count": 26,
   "id": "474337c2",
   "metadata": {},
   "outputs": [],
   "source": [
    "file_path = './../data/resnet50-test_enroll_features_labels.pickle'\n",
    "\n",
    "with open(file_path, 'wb') as handle:\n",
    "    pickle.dump(test_enroll_features_labels, handle, protocol=pickle.HIGHEST_PROTOCOL)"
   ]
  },
  {
   "cell_type": "markdown",
   "id": "a752658c",
   "metadata": {},
   "source": [
    "## Extraindo Features da Validação (ideia utilizada para a classe *unknown*)"
   ]
  },
  {
   "cell_type": "code",
   "execution_count": 27,
   "id": "9cdf107c",
   "metadata": {},
   "outputs": [
    {
     "name": "stdout",
     "output_type": "stream",
     "text": [
      "--------------------------------------------------\n",
      "Images available for train/val: 17097\n",
      "Classes available for train/val: 100\n",
      "\n",
      "Images available for test: 1030\n",
      "--------------------------------------------------\n",
      "./../data/dogs/train/n02088094-Afghan_hound\\n02088094_5150.jpg\n",
      "./../data/dogs/train/n02105412-kelpie\\n02105412_5702.jpg\n"
     ]
    },
    {
     "data": {
      "text/plain": [
       "(torch.Size([64, 3, 224, 224]), torch.Size([64]))"
      ]
     },
     "execution_count": 27,
     "metadata": {},
     "output_type": "execute_result"
    }
   ],
   "source": [
    "# Initialize our data pipeline\n",
    "dm = DogDataModule(batch_size=64)\n",
    "\n",
    "# To access the x_dataloader we need to call prepare_data and setup.\n",
    "dm.prepare_data()\n",
    "dm.setup(stage='fit')\n",
    "\n",
    "# Samples required by the custom ImagePredictionLogger callback to log image predictions.\n",
    "val_samples = next(iter(dm.val_dataloader()))\n",
    "val_imgs, val_labels = val_samples[0], val_samples[1]\n",
    "val_imgs.shape, val_labels.shape"
   ]
  },
  {
   "cell_type": "code",
   "execution_count": 28,
   "id": "1612d12c",
   "metadata": {
    "scrolled": true
   },
   "outputs": [
    {
     "name": "stderr",
     "output_type": "stream",
     "text": [
      "100%|█████████████████████████████████████████████████████████████████████████████████████████████████████████████████████████████████████████████████████████████████████████████| 54/54 [09:05<00:00, 10.10s/it]"
     ]
    },
    {
     "name": "stdout",
     "output_type": "stream",
     "text": [
      "features: 54, labels: 3420\n"
     ]
    },
    {
     "name": "stderr",
     "output_type": "stream",
     "text": [
      "\n"
     ]
    }
   ],
   "source": [
    "validation_features, validation_labels = feature_extractor(model, dm.val_dataloader())"
   ]
  },
  {
   "cell_type": "code",
   "execution_count": 33,
   "id": "5daf306e",
   "metadata": {},
   "outputs": [],
   "source": [
    "_validation_features = []\n",
    "\n",
    "for batch in validation_features:\n",
    "    for image in batch:\n",
    "        _validation_features.append(image)"
   ]
  },
  {
   "cell_type": "code",
   "execution_count": 34,
   "id": "6de91c1b",
   "metadata": {},
   "outputs": [
    {
     "name": "stderr",
     "output_type": "stream",
     "text": [
      "A:\\torch\\lib\\site-packages\\ipykernel_launcher.py:1: FutureWarning: The input object of type 'Tensor' is an array-like implementing one of the corresponding protocols (`__array__`, `__array_interface__` or `__array_struct__`); but not a sequence (or 0-D). In the future, this object will be coerced as if it was first converted using `np.array(obj)`. To retain the old behaviour, you have to either modify the type 'Tensor', or assign to an empty array created with `np.empty(correct_shape, dtype=object)`.\n",
      "  \"\"\"Entry point for launching an IPython kernel.\n"
     ]
    }
   ],
   "source": [
    "_validation_features = np.asarray(_validation_features, dtype=object)\n",
    "validation_labels = np.asarray(validation_labels)"
   ]
  },
  {
   "cell_type": "code",
   "execution_count": 35,
   "id": "30513b62",
   "metadata": {},
   "outputs": [
    {
     "name": "stderr",
     "output_type": "stream",
     "text": [
      "A:\\torch\\lib\\site-packages\\ipykernel_launcher.py:1: VisibleDeprecationWarning: Creating an ndarray from ragged nested sequences (which is a list-or-tuple of lists-or-tuples-or ndarrays with different lengths or shapes) is deprecated. If you meant to do this, you must specify 'dtype=object' when creating the ndarray.\n",
      "  \"\"\"Entry point for launching an IPython kernel.\n"
     ]
    }
   ],
   "source": [
    "validation_features_labels = np.array([_validation_features, validation_labels, dm.class_dict])"
   ]
  },
  {
   "cell_type": "code",
   "execution_count": 32,
   "id": "832a4ba2",
   "metadata": {},
   "outputs": [],
   "source": [
    "file_path = './../data/resnet50-validation_features_labels.pickle'\n",
    "\n",
    "with open(file_path, 'wb') as handle:\n",
    "    pickle.dump(validation_features_labels, handle, protocol=pickle.HIGHEST_PROTOCOL)"
   ]
  }
 ],
 "metadata": {
  "kernelspec": {
   "display_name": "TORCH",
   "language": "python",
   "name": "torch"
  },
  "language_info": {
   "codemirror_mode": {
    "name": "ipython",
    "version": 3
   },
   "file_extension": ".py",
   "mimetype": "text/x-python",
   "name": "python",
   "nbconvert_exporter": "python",
   "pygments_lexer": "ipython3",
   "version": "3.7.11"
  }
 },
 "nbformat": 4,
 "nbformat_minor": 5
}
