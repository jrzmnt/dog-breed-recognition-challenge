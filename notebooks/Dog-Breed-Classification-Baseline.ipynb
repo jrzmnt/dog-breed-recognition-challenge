{
 "cells": [
  {
   "cell_type": "markdown",
   "id": "f674d9b8",
   "metadata": {},
   "source": [
    "# DOG BREED RECOGNITION\n",
    "<br>\n",
    "\n",
    "@author: Juarez Monteiro"
   ]
  },
  {
   "cell_type": "markdown",
   "id": "5975e9c5",
   "metadata": {},
   "source": [
    "---\n",
    "\n",
    "## A ideia\n",
    "Desenvolver um sistema simples de reconhecimento de raças de cachorro. Porém, com\n",
    "uma dificuldade extra: adicionar raças que não foram vistas em tempo de treinamento, e\n",
    "saber identificar *unknowns* (por exemplo, nossos queridos vira-latas)."
   ]
  },
  {
   "cell_type": "markdown",
   "id": "252e356f",
   "metadata": {},
   "source": [
    "## Primeira Parte\n",
    "Na pasta **train** está um total de 100 raças de cachorros, uma em cada pasta. Num primeiro momento desenvolva um sistema que, dada uma foto de um cachorro destas raças, consiga dizer qual é a sua raça e com uma confiança desta predição.\n",
    "\n",
    "---"
   ]
  },
  {
   "cell_type": "markdown",
   "id": "c4a48b9a",
   "metadata": {},
   "source": [
    "# Dog Breed Model - Baseline\n",
    "\n",
    "---\n",
    "\n",
    "\n",
    "# Acesse os dados de treinamento do Model Baseline clicando [aqui](https://wandb.ai/jrzmnt/dog-breed-lightning/reports/Dog-Breed-Recognition-ResNet-18-Baseline--VmlldzoxMTI1OTI4?accessToken=kq8jev5qloykl6rupaf5rv94mlvrdhvxn5ms9xau3rvclxx8dz0kpfw4nome0cbt)!\n",
    "\n",
    "---\n",
    "\n",
    "## Configuração do Modelo e Treinamento\n",
    "\n",
    "Neste notebook iremos instanciar o nosso modelo **baseline** e iremos iniciar o treinamento do mesmo. Para isto, iremos utilizar a classe ```DogModel```. O modelo, *baseline*  possui algumas diferenças em relação ao modelo *enhanced*.\n",
    "\n",
    "Para entendermos melhor algumas escolhas e como é o modelo **baseline** são listadas as suas características a seguir:\n",
    "\n",
    "- ### Topologia <br>\n",
    "    - ResNet-18: Nessa versão iremos utilizar a arquitetura [ResNet-18](https://pytorch.org/vision/0.8/_modules/torchvision/models/resnet.html), por ser um modelo conhecido na área, e o qual as suas versões demonstram bons resultados na literatura ([Artigo ResNet](https://openaccess.thecvf.com/content_cvpr_2016/papers/He_Deep_Residual_Learning_CVPR_2016_paper.pdf), [Artigo de experimentação com ResNet](https://arxiv.org/abs/2110.00476));<br><br>\n",
    "\n",
    "    - Para alguns casos o pré-treino (ImageNet) auxilia na convergência do modelo, fazendo com que o mesmo encontre o mínimo local de maneira mais rápida ([Artigo sobre Pré-treino](https://arxiv.org/abs/1811.08883)), dito isso, iremos utilizar um modelo pré-treinado no dataset ImageNet; <br><br>\n",
    "    \n",
    "- ### Pré-treino <br>\n",
    "    - Para inicializarmos o pré-treino com a ResNet-18, iremos \"congelar\" todas as camadas do modelo, exceto as camadas ```fc.weight``` e ```fc.bias```; <br><br>\n",
    "    \n",
    "    - Com isso, nosso modelo irá aproveitar os pesos do ImageNet para as camadas anteriores, e irá treinar somente a camada toalmente conectada do nosso modelo; <br><br>\n",
    "    \n",
    "    - A ideia no primeiro momento é de aprendermos **características** (*features*) mais específicas do nosso problema, e deixarmos features mais abstratas, tais como bordas, etc., para os pesos aproveitados; <br><br>\n",
    "    \n",
    "    - Como a ideia desse modelo é um resultado inicial (baseline, como o nome já diz) não iremos descongelar outras camadas da ResNet-18, somente a última.<br><br>\n",
    "\n",
    "\n",
    "- ### Learning Rate e Learning Rate Scheduler <br>\n",
    "    - Para o modelo **baseline** não serão utilizadas técnicas de Learning Scheduller; <br><br>    \n",
    "        \n",
    "- ### Otimizador e Loss <br>\n",
    "    - Como otimizador iremos utilizar o clássico `Adam` ([Artigo](https://arxiv.org/pdf/1412.6980.pdf)); <br>\n",
    "        - \"In practice Adam is currently recommended as the default algorithm to use\", Andrej Karpathy ([CS231n](https://cs231n.github.io/)); <br><br>\n",
    "        \n",
    "    - Para o loss, foi escolhido o `CrossEntropyLoss` ([Pytorch ref.](https://pytorch.org/docs/stable/generated/torch.nn.CrossEntropyLoss.html)), o qual juntamente com o Adam, segue uma escolha padrão para problemas de classificação.\n",
    "\n",
    "---"
   ]
  },
  {
   "cell_type": "markdown",
   "id": "270c8de8",
   "metadata": {},
   "source": [
    "Iniciaremos o código gerando o *import* de métodos e classes importantes para realizarmos o nosso objetivo"
   ]
  },
  {
   "cell_type": "code",
   "execution_count": 66,
   "id": "f20de442",
   "metadata": {},
   "outputs": [
    {
     "name": "stderr",
     "output_type": "stream",
     "text": [
      "wandb: Currently logged in as: jrzmnt (use `wandb login --relogin` to force relogin)\n"
     ]
    }
   ],
   "source": [
    "# regular imports\n",
    "import os\n",
    "import re\n",
    "import numpy as np\n",
    "import random\n",
    "import matplotlib.pyplot as plt\n",
    "import math\n",
    "import logging\n",
    "from PIL import Image\n",
    "from tqdm import tqdm\n",
    "\n",
    "# sklearn imports\n",
    "from sklearn.model_selection import train_test_split\n",
    "from sklearn.metrics import accuracy_score\n",
    "\n",
    "# pytorch related imports\n",
    "import torch\n",
    "from torch import nn\n",
    "from torch.nn import functional as F\n",
    "from torch.utils.data import DataLoader, random_split\n",
    "from torch.utils.data import Dataset\n",
    "from torch.optim.lr_scheduler import ExponentialLR\n",
    "from torchvision import transforms\n",
    "from torchvision import models\n",
    "from torch.autograd import Variable\n",
    "\n",
    "# lightning related imports\n",
    "import pytorch_lightning as pl\n",
    "from pytorch_lightning.metrics.functional import accuracy\n",
    "from pytorch_lightning.callbacks import Callback\n",
    "from pytorch_lightning.callbacks.early_stopping import EarlyStopping\n",
    "from pytorch_lightning.loggers import WandbLogger\n",
    "from pytorch_lightning.callbacks import ModelCheckpoint, LearningRateMonitor\n",
    "from pytorch_lightning import Trainer\n",
    "\n",
    "\n",
    "# import wandb and login\n",
    "import wandb\n",
    "!wandb login"
   ]
  },
  {
   "cell_type": "markdown",
   "id": "c818e512",
   "metadata": {},
   "source": [
    "A seguir é criada a classe `DogDataset` com a principal função de sobreescever os métodos `__init__`, `__len__` e `__getitem__` oriundos da classe `Dataset` (`torch.utils.data`). Criamos a classe justamente para que a mesma seja adequada a realidade do nosso problema. A principal função a ser executada por essa classe é a de receber um indíce específico (`idx`) e retornar a imagem referente a este indíce juntamente ao id da classe desta imagem (`label_id`)."
   ]
  },
  {
   "cell_type": "code",
   "execution_count": 2,
   "id": "45c4b884",
   "metadata": {},
   "outputs": [],
   "source": [
    "class DogDataset(Dataset):\n",
    "\n",
    "    def __init__(self, file_list, class_dict, transform=None, phase=None):\n",
    "        self.file_list = file_list\n",
    "        self.class_dict = class_dict\n",
    "        self.transform = transform\n",
    "        self.phase = phase\n",
    "\n",
    "    def __len__(self):\n",
    "        return len(self.file_list)\n",
    "    \n",
    "\n",
    "    def __getitem__(self, idx):\n",
    "        img_path = self.file_list[idx]\n",
    "        img = Image.open(img_path).convert('RGB')\n",
    "\n",
    "        # Transformimg Image\n",
    "        img_transformed = self.transform(img, self.phase)\n",
    "\n",
    "        # Get Label\n",
    "        label = img_path.split('\\\\')[0].split('-')[-1]\n",
    "        label_id = self.class_dict[label]\n",
    "\n",
    "        return img_transformed, label_id"
   ]
  },
  {
   "cell_type": "markdown",
   "id": "e776a3ba",
   "metadata": {},
   "source": [
    "A classe ImageTransform é responsável por fornecer as modificações que desejamos nos conjuntos de imagens a serem criados (`dog_val`, `dog_train` e `dog_test`), dado o parâmetro `phase`, o qual indica qual conjunto de dados (treino, validação ou teste) estamos modificando. Essa classe irá conduzir o *data augmentation* quando necessário, bem como a normalização utilizando a média e desvio padrão do dataset (ImageNet), uma vez que iremos utilizar um modelo pré-treinado no mesmo."
   ]
  },
  {
   "cell_type": "code",
   "execution_count": 3,
   "id": "20c708fc",
   "metadata": {},
   "outputs": [],
   "source": [
    "class ImageTransform():\n",
    "\n",
    "    def __init__(self, img_size=224, mean=(0.485, 0.456, 0.406), std=(0.229, 0.224, 0.225)):\n",
    "\n",
    "        self.data_transform = {\n",
    "\n",
    "            'train': transforms.Compose([\n",
    "                transforms.Resize(256),\n",
    "                transforms.CenterCrop(img_size),\n",
    "                #transforms.RandomResizedCrop(img_size, scale=(0.5, 1.0)),\n",
    "                #transforms.RandomHorizontalFlip(),\n",
    "                #transforms.RandomRotation(degrees=(0, 180)),\n",
    "                transforms.ToTensor(),\n",
    "                transforms.Normalize(mean, std)\n",
    "            ]),\n",
    "\n",
    "            'val': transforms.Compose([\n",
    "                transforms.Resize(256),\n",
    "                transforms.CenterCrop(img_size),\n",
    "                transforms.ToTensor(),\n",
    "                transforms.Normalize(mean, std)\n",
    "            ]),\n",
    "\n",
    "            'test': transforms.Compose([\n",
    "                transforms.Resize(256),\n",
    "                transforms.CenterCrop(img_size),\n",
    "                transforms.ToTensor(),\n",
    "                transforms.Normalize(mean, std)\n",
    "            ])\n",
    "        }\n",
    "\n",
    "    def __call__(self, img, phase):\n",
    "\n",
    "        return self.data_transform[phase](img)"
   ]
  },
  {
   "cell_type": "markdown",
   "id": "0818237c",
   "metadata": {},
   "source": [
    "A classe `DogDataModule` será responsável por escanear e organizar nosso Dataset."
   ]
  },
  {
   "cell_type": "code",
   "execution_count": 4,
   "id": "4c3576e9",
   "metadata": {},
   "outputs": [],
   "source": [
    "class DogDataModule(pl.LightningDataModule):\n",
    "    def __init__(self, batch_size, data_dir: str = './../data/dogs/'):\n",
    "        super().__init__()\n",
    "        \n",
    "        # images and dataset\n",
    "        self.data_dir = data_dir\n",
    "        self.train_data_dir = data_dir + 'train/'\n",
    "        self.test_data_dir = data_dir + 'recognition/test/'\n",
    "        \n",
    "        self.batch_size = batch_size\n",
    "        self.dims = (3, 224, 224)\n",
    "        self.img_size = 224\n",
    "        self.num_classes = 100\n",
    "        self.class_dict = {}\n",
    "        self.train_path_images = []\n",
    "        self.test_path_images = []\n",
    "        self.breeds = []\n",
    "\n",
    "        self.train_split_path = []\n",
    "        self.val_split_path = []\n",
    "        self.dog_train = []\n",
    "        self.dog_val = []\n",
    "        self.dog_test = []\n",
    "        \n",
    "    def prepare_data(self):\n",
    "        \"\"\"Scan train_data_dir and test_data_dir to save all the train/test paths.\n",
    "           It also creates train_dic to map the classes available to a scalar.\n",
    "        \"\"\"\n",
    "        \n",
    "        # Scan all train/val images\n",
    "        for d in os.listdir(self.train_data_dir):\n",
    "            dog_dir = os.path.join(self.train_data_dir, d)\n",
    "    \n",
    "            for img in os.listdir(dog_dir):\n",
    "                img_path = os.path.join(dog_dir, img)\n",
    "                self.train_path_images.append(img_path)\n",
    "                self.breeds.append(img_path.split('\\\\')[0].split('-')[-1])\n",
    "            \n",
    "        self.breeds = set(self.breeds)\n",
    "        \n",
    "        for idx, breed in enumerate(self.breeds):\n",
    "            self.class_dict[breed] = idx\n",
    "        \n",
    "        # Scan all test images\n",
    "        for d in os.listdir(self.test_data_dir):\n",
    "            dog_dir = os.path.join(self.test_data_dir, d)\n",
    "    \n",
    "            for img in os.listdir(dog_dir):\n",
    "                img_path = os.path.join(dog_dir, img)\n",
    "                self.test_path_images.append(img_path)\n",
    "        \n",
    "        print(50*'-')\n",
    "        print(f'Images available for train/val: {len(self.train_path_images)}')\n",
    "        print(f'Classes available for train/val: {len(self.breeds)}')\n",
    "        print()\n",
    "        print(f'Images available for test: {len(self.test_path_images)}')\n",
    "        print(50*'-')\n",
    "    \n",
    "    def setup(self, stage=None):\n",
    "        \"\"\"Creates DogDataset objects, depends on which stage was passed\n",
    "\n",
    "        Parameters\n",
    "        ----------\n",
    "        stage : string (optional)\n",
    "            Name of the actual stage ('fit' or 'test')\n",
    "        \"\"\"\n",
    "        \n",
    "        # Assign train/val datasets for use in dataloaders\n",
    "        if stage == 'fit' or stage is None:\n",
    "            \n",
    "            self.train_split_path, self.val_split_path = train_test_split(self.train_path_images, test_size=0.2)\n",
    "\n",
    "            self.dog_train = DogDataset(self.train_split_path,\n",
    "                                        self.class_dict,\n",
    "                                        ImageTransform(self.img_size),\n",
    "                                        phase='train')\n",
    "\n",
    "            self.dog_val = DogDataset(self.val_split_path,\n",
    "                                      self.class_dict,\n",
    "                                      ImageTransform(self.img_size),\n",
    "                                      phase='val')\n",
    "            \n",
    "        # Assign test dataset for use in dataloader(s)\n",
    "        if stage == 'test':\n",
    "            self.dog_test = DogDataset(self.test_path_images,\n",
    "                                      self.class_dict,\n",
    "                                      ImageTransform(self.img_size),\n",
    "                                      phase='test')\n",
    "        \n",
    "    def random_plot_train_data(self):\n",
    "        \"\"\"Randomly pick an image from train_path_images to plot in the screen.\n",
    "        \n",
    "        \"\"\"\n",
    "        img_path = random.choice(self.train_path_images)\n",
    "        img = Image.open(img_path)\n",
    "        breed = img_path.split('\\\\')[0].split('-')[-1]\n",
    "        \n",
    "        print(breed)\n",
    "\n",
    "        plt.imshow(img)\n",
    "        plt.axis('off')\n",
    "        plt.title(breed)\n",
    "        plt.show()\n",
    "    \n",
    "    def train_dataloader(self):\n",
    "        return DataLoader(self.dog_train, batch_size=self.batch_size, shuffle=True)\n",
    "    \n",
    "    \n",
    "    def val_dataloader(self):\n",
    "        return DataLoader(self.dog_val, batch_size=self.batch_size, shuffle=False)\n",
    "    \n",
    "    \n",
    "    def test_dataloader(self):\n",
    "        return DataLoader(self.dog_test, batch_size=self.batch_size, shuffle=False)\n"
   ]
  },
  {
   "cell_type": "markdown",
   "id": "b52ac315",
   "metadata": {},
   "source": [
    "A classe `ImagePredictionLogger` a qual será um *callback* utilizado durante a fase de treino, será responsável por nos enviar um batch para validarmos e termos um *feedback* visual na ferramenta *wanbd*."
   ]
  },
  {
   "cell_type": "code",
   "execution_count": 5,
   "id": "b766f846",
   "metadata": {},
   "outputs": [],
   "source": [
    "# This Callback allow us to verify the predictions for one batch while using wandb\n",
    "class ImagePredictionLogger(Callback):\n",
    "    def __init__(self, val_samples, num_samples=32):\n",
    "        super().__init__()\n",
    "        self.num_samples = num_samples\n",
    "        self.val_imgs, self.val_labels = val_samples\n",
    "        \n",
    "    def on_validation_epoch_end(self, trainer, pl_module):\n",
    "        # Bring the tensors to CPU\n",
    "        val_imgs = self.val_imgs.to(device=pl_module.device)\n",
    "        val_labels = self.val_labels.to(device=pl_module.device)\n",
    "        \n",
    "        # Get model prediction\n",
    "        logits = pl_module(val_imgs)\n",
    "        preds = torch.argmax(logits, -1)\n",
    "        \n",
    "        # Log the images as wandb Image\n",
    "        trainer.logger.experiment.log({\n",
    "            \"examples\":[wandb.Image(x, caption=f\"Pred:{pred}, Label:{y}\") \n",
    "                           for x, pred, y in zip(val_imgs[:self.num_samples], \n",
    "                                                 preds[:self.num_samples], \n",
    "                                                 val_labels[:self.num_samples])]\n",
    "            })"
   ]
  },
  {
   "cell_type": "markdown",
   "id": "b77d013a",
   "metadata": {},
   "source": [
    "Como o próprio nome já diz, a classe `DogModel` será responsável por instanciar nosso `model`. Nela, estão contidas informações da arquitetura da rede, métodos fundamentais como `training_step` e o `validation_step` que são responsáveis pela fase de treinamento."
   ]
  },
  {
   "cell_type": "code",
   "execution_count": 6,
   "id": "97da0184",
   "metadata": {},
   "outputs": [],
   "source": [
    "class DogModel(pl.LightningModule):\n",
    "    \n",
    "    def __init__(self, input_shape, num_classes, learning_rate=2e-4, pre_trained=False):\n",
    "        super().__init__()\n",
    "\n",
    "        # log hyperparameters\n",
    "        self.save_hyperparameters()\n",
    "        self.input_shape = input_shape\n",
    "        self.num_classes = num_classes\n",
    "        self.learning_rate = learning_rate\n",
    "        self.pre_trained = pre_trained\n",
    "        self.params_to_update = []\n",
    "        \n",
    "        print(f'Use Pre-Training? {self.pre_trained}')\n",
    "        self.net = models.resnet18(pretrained=self.pre_trained)\n",
    "        \n",
    "        # FC Layer should out 100 (num_classes) dog breed classes\n",
    "        self.net.fc = nn.Linear(\n",
    "            in_features=self.net.fc.in_features, out_features=self.num_classes)\n",
    "\n",
    "        # unfreeze the last ResNet layers and freeze all the other\n",
    "        if self.pre_trained:\n",
    "            update_params_name = ['fc.weight', 'fc.bias']\n",
    "            self.params_to_update = []\n",
    "\n",
    "            for name, param in self.net.named_parameters():\n",
    "                \n",
    "                if name in update_params_name:\n",
    "                    print(f'Not going to freeze the layer: {name}')\n",
    "                    param.requires_grad = True\n",
    "                    self.params_to_update.append(param)\n",
    "                    \n",
    "                else:\n",
    "                    param.requires_grad = False\n",
    "        \n",
    "        \n",
    "        # set CrossEntropy as the loss\n",
    "        self.criterion = nn.CrossEntropyLoss()\n",
    "        \n",
    "        # set Adam as the optimizer\n",
    "        self.optimizer = torch.optim.Adam(self.parameters(), lr=self.learning_rate)\n",
    "        \n",
    "        # set ExponentialLR as the scheduler\n",
    "        # self.lr_scheduler = ExponentialLR(self.optimizer, gamma=0.99)\n",
    "                    \n",
    "    # returns the size of the output tensor going into Linear layer from the conv block.\n",
    "    def _get_conv_output(self, shape):\n",
    "        batch_size = 1\n",
    "        input = torch.autograd.Variable(torch.rand(batch_size, *shape))\n",
    "\n",
    "        output_feat = self._forward_features(input) \n",
    "        n_size = output_feat.data.view(batch_size, -1).size(1)\n",
    "        return n_size\n",
    "    \n",
    "    # infer x using self.net\n",
    "    def forward(self, x):\n",
    "        x = self.net(x)\n",
    "        return x\n",
    "    \n",
    "    # set the optimizer and the scheduler chosen\n",
    "    def configure_optimizers(self):\n",
    "        #return [self.optimizer], [self.lr_scheduler]\n",
    "        return [self.optimizer]\n",
    "\n",
    "    # logic for a single training step\n",
    "    def training_step(self, batch, batch_idx):\n",
    "        x, y = batch\n",
    "        logits = self.net(x)\n",
    "        loss = self.criterion(logits, y)\n",
    "\n",
    "        # training metrics\n",
    "        preds = torch.argmax(logits, dim=1)\n",
    "        acc = accuracy(preds, y)\n",
    "        \n",
    "        self.log('train_loss', loss, on_step=True, on_epoch=True, logger=True)\n",
    "        self.log('train_acc', acc, on_step=True, on_epoch=True, logger=True)\n",
    "\n",
    "        return loss\n",
    "\n",
    "    # logic for a single validation step\n",
    "    def validation_step(self, batch, batch_idx):\n",
    "        x, y = batch\n",
    "        logits = self.net(x)\n",
    "        loss = self.criterion(logits, y)\n",
    "\n",
    "        # validation metrics\n",
    "        preds = torch.argmax(logits, dim=1)\n",
    "        acc = accuracy(preds, y)\n",
    "        \n",
    "        self.log('val_loss', loss, prog_bar=True)\n",
    "        self.log('val_acc', acc, prog_bar=True)\n",
    "        \n",
    "        return loss\n",
    "\n",
    "    # logic for a single testing step\n",
    "    def test_step(self, batch, batch_idx):\n",
    "        x, y = batch\n",
    "        logits = self.net(x)\n",
    "        loss = self.criterion(logits, y)\n",
    "\n",
    "        # validation metrics\n",
    "        preds = torch.argmax(logits, dim=1)\n",
    "        acc = accuracy(preds, y)\n",
    "        self.log('test_loss', loss, prog_bar=True)\n",
    "        self.log('test_acc', acc, prog_bar=True)\n",
    "        \n",
    "        return loss"
   ]
  },
  {
   "cell_type": "markdown",
   "id": "50e69c51",
   "metadata": {},
   "source": [
    "## Preparando os dados"
   ]
  },
  {
   "cell_type": "code",
   "execution_count": 7,
   "id": "6c9fc7e7",
   "metadata": {},
   "outputs": [
    {
     "name": "stdout",
     "output_type": "stream",
     "text": [
      "--------------------------------------------------\n",
      "Images available for train/val: 17097\n",
      "Classes available for train/val: 100\n",
      "\n",
      "Images available for test: 1030\n",
      "--------------------------------------------------\n"
     ]
    },
    {
     "data": {
      "text/plain": [
       "(torch.Size([128, 3, 224, 224]), torch.Size([128]))"
      ]
     },
     "execution_count": 7,
     "metadata": {},
     "output_type": "execute_result"
    }
   ],
   "source": [
    "# Initialize our data pipeline\n",
    "dm = DogDataModule(batch_size=128)\n",
    "\n",
    "# salvando o dicionário de labels para usar futuramente\n",
    "dict_path = file_path = './../reports/class_dict.npy'\n",
    "np.save(dict_path, dm.class_dict)\n",
    "\n",
    "# To access the x_dataloader we need to call prepare_data and setup.\n",
    "dm.prepare_data()\n",
    "dm.setup()\n",
    "\n",
    "# Samples required by the custom ImagePredictionLogger callback to log image predictions.\n",
    "val_samples = next(iter(dm.val_dataloader()))\n",
    "val_imgs, val_labels = val_samples[0], val_samples[1]\n",
    "val_imgs.shape, val_labels.shape"
   ]
  },
  {
   "cell_type": "markdown",
   "id": "c701aec1",
   "metadata": {},
   "source": [
    "### Plotando uma imagem aleatória para conferirmos nossos dados"
   ]
  },
  {
   "cell_type": "code",
   "execution_count": 8,
   "id": "f722e4e2",
   "metadata": {},
   "outputs": [
    {
     "name": "stdout",
     "output_type": "stream",
     "text": [
      "Irish_wolfhound\n"
     ]
    },
    {
     "data": {
      "image/png": "[encoded data removed]",
      "text/plain": [
       "<Figure size 432x288 with 1 Axes>"
      ]
     },
     "metadata": {
      "needs_background": "light"
     },
     "output_type": "display_data"
    }
   ],
   "source": [
    "# let's plot a random image from our train dataset\n",
    "dm.random_plot_train_data()"
   ]
  },
  {
   "cell_type": "markdown",
   "id": "74b22775",
   "metadata": {},
   "source": [
    "## Criando nosso modelo *baseline* e definindo os *callbacks*\n",
    "\n",
    "**Atenção!**\n",
    "Perceba que foi utilizado a ferramenta [wandb](https://wandb.ai/) para acompanharmos o pipeline de treinamento dos modelos. Por isso é fundamental que o usuário que for executar esse notebook (e outros desse projeto), tenha criado uma conta e baixado corretamenta a ferramenta."
   ]
  },
  {
   "cell_type": "code",
   "execution_count": 10,
   "id": "6c9b2696",
   "metadata": {},
   "outputs": [],
   "source": [
    "early_stop_callback = EarlyStopping(\n",
    "   monitor='val_loss',\n",
    "   patience=10,\n",
    "   verbose=False,\n",
    "   mode='min'\n",
    ")"
   ]
  },
  {
   "cell_type": "code",
   "execution_count": 11,
   "id": "63521d3a",
   "metadata": {},
   "outputs": [
    {
     "name": "stderr",
     "output_type": "stream",
     "text": [
      "A:\\torch\\lib\\site-packages\\pytorch_lightning\\callbacks\\model_checkpoint.py:446: UserWarning: Checkpoint directory ./../models/ exists and is not empty.\n",
      "  rank_zero_warn(f\"Checkpoint directory {dirpath} exists and is not empty.\")\n"
     ]
    }
   ],
   "source": [
    "MODEL_CKPT_PATH = './../models/'\n",
    "MODEL_CKPT = 'resnet-18-baseline/baseline-{epoch:02d}-{val_loss:.2f}'\n",
    "\n",
    "checkpoint_callback = ModelCheckpoint(\n",
    "    monitor='val_loss',\n",
    "    dirpath=MODEL_CKPT_PATH,\n",
    "    filename=MODEL_CKPT ,\n",
    "    save_top_k=1,\n",
    "    mode='min')"
   ]
  },
  {
   "cell_type": "code",
   "execution_count": 12,
   "id": "2a272b6a",
   "metadata": {},
   "outputs": [
    {
     "name": "stdout",
     "output_type": "stream",
     "text": [
      "Use Pre-Training? True\n",
      "Not going to freeze the layer: fc.weight\n",
      "Not going to freeze the layer: fc.bias\n"
     ]
    }
   ],
   "source": [
    "# Init our model\n",
    "model = DogModel(dm.size(), dm.num_classes, learning_rate=0.001, pre_trained=True)\n",
    "\n",
    "# Initialize wandb logger\n",
    "wandb_logger = WandbLogger(project='dog-breed-lightning', job_type='train')\n",
    "\n",
    "# Monitor to follow lr using wandb\n",
    "lr_monitor = LearningRateMonitor(logging_interval='epoch')"
   ]
  },
  {
   "cell_type": "code",
   "execution_count": 13,
   "id": "02235c27",
   "metadata": {},
   "outputs": [
    {
     "name": "stderr",
     "output_type": "stream",
     "text": [
      "GPU available: True, used: True\n",
      "TPU available: False, using: 0 TPU cores\n",
      "IPU available: False, using: 0 IPUs\n"
     ]
    }
   ],
   "source": [
    "# Initialize a trainer\n",
    "trainer = Trainer(logger=wandb_logger,\n",
    "                  default_root_dir='./logs/',\n",
    "                  gpus=[0],\n",
    "                  callbacks=[early_stop_callback,\n",
    "                             ImagePredictionLogger(val_samples),\n",
    "                             lr_monitor, checkpoint_callback])"
   ]
  },
  {
   "cell_type": "code",
   "execution_count": 14,
   "id": "d3db3543",
   "metadata": {},
   "outputs": [
    {
     "name": "stderr",
     "output_type": "stream",
     "text": [
      "wandb: Currently logged in as: jrzmnt (use `wandb login --relogin` to force relogin)\n"
     ]
    },
    {
     "data": {
      "text/html": [
       "\n",
       "                    Syncing run <strong><a href=\"https://wandb.ai/jrzmnt/dog-breed-lightning/runs/3g7ncgkq\" target=\"_blank\">royal-mountain-10</a></strong> to <a href=\"https://wandb.ai/jrzmnt/dog-breed-lightning\" target=\"_blank\">Weights & Biases</a> (<a href=\"https://docs.wandb.com/integrations/jupyter.html\" target=\"_blank\">docs</a>).<br/>\n",
       "\n",
       "                "
      ],
      "text/plain": [
       "<IPython.core.display.HTML object>"
      ]
     },
     "metadata": {},
     "output_type": "display_data"
    }
   ],
   "source": [
    "# log gradients and model topology\n",
    "wandb_logger.watch(model)"
   ]
  },
  {
   "cell_type": "markdown",
   "id": "48022dae",
   "metadata": {},
   "source": [
    "# Acesse os dados de treinamento do Model Baseline clicando [aqui](https://wandb.ai/jrzmnt/dog-breed-lightning/reports/Dog-Breed-Recognition-ResNet-18-Baseline--VmlldzoxMTI1OTI4?accessToken=kq8jev5qloykl6rupaf5rv94mlvrdhvxn5ms9xau3rvclxx8dz0kpfw4nome0cbt)!"
   ]
  },
  {
   "cell_type": "markdown",
   "id": "3029ad36",
   "metadata": {},
   "source": [
    "### Treinando o Modelo"
   ]
  },
  {
   "cell_type": "code",
   "execution_count": 15,
   "id": "ae3bea01",
   "metadata": {
    "scrolled": false
   },
   "outputs": [
    {
     "name": "stderr",
     "output_type": "stream",
     "text": [
      "A:\\torch\\lib\\site-packages\\pytorch_lightning\\core\\datamodule.py:424: LightningDeprecationWarning: DataModule.setup has already been called, so it will not be called again. In v1.6 this behavior will change to always call DataModule.setup.\n",
      "  f\"DataModule.{name} has already been called, so it will not be called again. \"\n",
      "LOCAL_RANK: 0 - CUDA_VISIBLE_DEVICES: [0]\n",
      "\n",
      "  | Name      | Type             | Params\n",
      "-----------------------------------------------\n",
      "0 | net       | ResNet           | 11.2 M\n",
      "1 | criterion | CrossEntropyLoss | 0     \n",
      "-----------------------------------------------\n",
      "51.3 K    Trainable params\n",
      "11.2 M    Non-trainable params\n",
      "11.2 M    Total params\n",
      "44.911    Total estimated model params size (MB)\n"
     ]
    },
    {
     "data": {
      "application/vnd.jupyter.widget-view+json": {
       "model_id": "",
       "version_major": 2,
       "version_minor": 0
      },
      "text/plain": [
       "Validation sanity check: 0it [00:00, ?it/s]"
      ]
     },
     "metadata": {},
     "output_type": "display_data"
    },
    {
     "name": "stderr",
     "output_type": "stream",
     "text": [
      "A:\\torch\\lib\\site-packages\\pytorch_lightning\\trainer\\data_loading.py:106: UserWarning: The dataloader, val dataloader 0, does not have many workers which may be a bottleneck. Consider increasing the value of the `num_workers` argument` (try 4 which is the number of cpus on this machine) in the `DataLoader` init to improve performance.\n",
      "  f\"The dataloader, {name}, does not have many workers which may be a bottleneck.\"\n",
      "A:\\torch\\lib\\site-packages\\torch\\nn\\functional.py:718: UserWarning: Named tensors and all their associated APIs are an experimental feature and subject to change. Please do not use them for anything important until they are released as stable. (Triggered internally at  ..\\c10/core/TensorImpl.h:1156.)\n",
      "  return torch.max_pool2d(input, kernel_size, stride, padding, dilation, ceil_mode)\n",
      "A:\\torch\\lib\\site-packages\\deprecate\\deprecation.py:115: LightningDeprecationWarning: The `accuracy` was deprecated since v1.3.0 in favor of `torchmetrics.functional.classification.accuracy.accuracy`. It will be removed in v1.5.0.\n",
      "  stream(template_mgs % msg_args)\n",
      "A:\\torch\\lib\\site-packages\\pytorch_lightning\\trainer\\data_loading.py:106: UserWarning: The dataloader, train dataloader, does not have many workers which may be a bottleneck. Consider increasing the value of the `num_workers` argument` (try 4 which is the number of cpus on this machine) in the `DataLoader` init to improve performance.\n",
      "  f\"The dataloader, {name}, does not have many workers which may be a bottleneck.\"\n",
      "A:\\torch\\lib\\site-packages\\pytorch_lightning\\callbacks\\lr_monitor.py:116: RuntimeWarning: You are using `LearningRateMonitor` callback with models that have no learning rate schedulers. Please see documentation for `configure_optimizers` method.\n",
      "  RuntimeWarning,\n"
     ]
    },
    {
     "data": {
      "application/vnd.jupyter.widget-view+json": {
       "model_id": "e0cb0ce5906c40e6998aef7d72f29e6c",
       "version_major": 2,
       "version_minor": 0
      },
      "text/plain": [
       "Training: -1it [00:00, ?it/s]"
      ]
     },
     "metadata": {},
     "output_type": "display_data"
    },
    {
     "data": {
      "application/vnd.jupyter.widget-view+json": {
       "model_id": "",
       "version_major": 2,
       "version_minor": 0
      },
      "text/plain": [
       "Validating: 0it [00:00, ?it/s]"
      ]
     },
     "metadata": {},
     "output_type": "display_data"
    },
    {
     "data": {
      "application/vnd.jupyter.widget-view+json": {
       "model_id": "",
       "version_major": 2,
       "version_minor": 0
      },
      "text/plain": [
       "Validating: 0it [00:00, ?it/s]"
      ]
     },
     "metadata": {},
     "output_type": "display_data"
    },
    {
     "data": {
      "application/vnd.jupyter.widget-view+json": {
       "model_id": "",
       "version_major": 2,
       "version_minor": 0
      },
      "text/plain": [
       "Validating: 0it [00:00, ?it/s]"
      ]
     },
     "metadata": {},
     "output_type": "display_data"
    },
    {
     "data": {
      "application/vnd.jupyter.widget-view+json": {
       "model_id": "",
       "version_major": 2,
       "version_minor": 0
      },
      "text/plain": [
       "Validating: 0it [00:00, ?it/s]"
      ]
     },
     "metadata": {},
     "output_type": "display_data"
    },
    {
     "data": {
      "application/vnd.jupyter.widget-view+json": {
       "model_id": "",
       "version_major": 2,
       "version_minor": 0
      },
      "text/plain": [
       "Validating: 0it [00:00, ?it/s]"
      ]
     },
     "metadata": {},
     "output_type": "display_data"
    },
    {
     "data": {
      "application/vnd.jupyter.widget-view+json": {
       "model_id": "",
       "version_major": 2,
       "version_minor": 0
      },
      "text/plain": [
       "Validating: 0it [00:00, ?it/s]"
      ]
     },
     "metadata": {},
     "output_type": "display_data"
    },
    {
     "data": {
      "application/vnd.jupyter.widget-view+json": {
       "model_id": "",
       "version_major": 2,
       "version_minor": 0
      },
      "text/plain": [
       "Validating: 0it [00:00, ?it/s]"
      ]
     },
     "metadata": {},
     "output_type": "display_data"
    },
    {
     "data": {
      "application/vnd.jupyter.widget-view+json": {
       "model_id": "",
       "version_major": 2,
       "version_minor": 0
      },
      "text/plain": [
       "Validating: 0it [00:00, ?it/s]"
      ]
     },
     "metadata": {},
     "output_type": "display_data"
    },
    {
     "data": {
      "application/vnd.jupyter.widget-view+json": {
       "model_id": "",
       "version_major": 2,
       "version_minor": 0
      },
      "text/plain": [
       "Validating: 0it [00:00, ?it/s]"
      ]
     },
     "metadata": {},
     "output_type": "display_data"
    },
    {
     "data": {
      "application/vnd.jupyter.widget-view+json": {
       "model_id": "",
       "version_major": 2,
       "version_minor": 0
      },
      "text/plain": [
       "Validating: 0it [00:00, ?it/s]"
      ]
     },
     "metadata": {},
     "output_type": "display_data"
    },
    {
     "data": {
      "application/vnd.jupyter.widget-view+json": {
       "model_id": "",
       "version_major": 2,
       "version_minor": 0
      },
      "text/plain": [
       "Validating: 0it [00:00, ?it/s]"
      ]
     },
     "metadata": {},
     "output_type": "display_data"
    },
    {
     "data": {
      "application/vnd.jupyter.widget-view+json": {
       "model_id": "",
       "version_major": 2,
       "version_minor": 0
      },
      "text/plain": [
       "Validating: 0it [00:00, ?it/s]"
      ]
     },
     "metadata": {},
     "output_type": "display_data"
    },
    {
     "data": {
      "application/vnd.jupyter.widget-view+json": {
       "model_id": "",
       "version_major": 2,
       "version_minor": 0
      },
      "text/plain": [
       "Validating: 0it [00:00, ?it/s]"
      ]
     },
     "metadata": {},
     "output_type": "display_data"
    },
    {
     "data": {
      "application/vnd.jupyter.widget-view+json": {
       "model_id": "",
       "version_major": 2,
       "version_minor": 0
      },
      "text/plain": [
       "Validating: 0it [00:00, ?it/s]"
      ]
     },
     "metadata": {},
     "output_type": "display_data"
    },
    {
     "data": {
      "application/vnd.jupyter.widget-view+json": {
       "model_id": "",
       "version_major": 2,
       "version_minor": 0
      },
      "text/plain": [
       "Validating: 0it [00:00, ?it/s]"
      ]
     },
     "metadata": {},
     "output_type": "display_data"
    },
    {
     "data": {
      "application/vnd.jupyter.widget-view+json": {
       "model_id": "",
       "version_major": 2,
       "version_minor": 0
      },
      "text/plain": [
       "Validating: 0it [00:00, ?it/s]"
      ]
     },
     "metadata": {},
     "output_type": "display_data"
    },
    {
     "data": {
      "application/vnd.jupyter.widget-view+json": {
       "model_id": "",
       "version_major": 2,
       "version_minor": 0
      },
      "text/plain": [
       "Validating: 0it [00:00, ?it/s]"
      ]
     },
     "metadata": {},
     "output_type": "display_data"
    },
    {
     "data": {
      "application/vnd.jupyter.widget-view+json": {
       "model_id": "",
       "version_major": 2,
       "version_minor": 0
      },
      "text/plain": [
       "Validating: 0it [00:00, ?it/s]"
      ]
     },
     "metadata": {},
     "output_type": "display_data"
    },
    {
     "data": {
      "application/vnd.jupyter.widget-view+json": {
       "model_id": "",
       "version_major": 2,
       "version_minor": 0
      },
      "text/plain": [
       "Validating: 0it [00:00, ?it/s]"
      ]
     },
     "metadata": {},
     "output_type": "display_data"
    },
    {
     "data": {
      "application/vnd.jupyter.widget-view+json": {
       "model_id": "",
       "version_major": 2,
       "version_minor": 0
      },
      "text/plain": [
       "Validating: 0it [00:00, ?it/s]"
      ]
     },
     "metadata": {},
     "output_type": "display_data"
    },
    {
     "data": {
      "application/vnd.jupyter.widget-view+json": {
       "model_id": "",
       "version_major": 2,
       "version_minor": 0
      },
      "text/plain": [
       "Validating: 0it [00:00, ?it/s]"
      ]
     },
     "metadata": {},
     "output_type": "display_data"
    },
    {
     "data": {
      "application/vnd.jupyter.widget-view+json": {
       "model_id": "",
       "version_major": 2,
       "version_minor": 0
      },
      "text/plain": [
       "Validating: 0it [00:00, ?it/s]"
      ]
     },
     "metadata": {},
     "output_type": "display_data"
    },
    {
     "data": {
      "application/vnd.jupyter.widget-view+json": {
       "model_id": "",
       "version_major": 2,
       "version_minor": 0
      },
      "text/plain": [
       "Validating: 0it [00:00, ?it/s]"
      ]
     },
     "metadata": {},
     "output_type": "display_data"
    },
    {
     "data": {
      "application/vnd.jupyter.widget-view+json": {
       "model_id": "",
       "version_major": 2,
       "version_minor": 0
      },
      "text/plain": [
       "Validating: 0it [00:00, ?it/s]"
      ]
     },
     "metadata": {},
     "output_type": "display_data"
    },
    {
     "data": {
      "application/vnd.jupyter.widget-view+json": {
       "model_id": "",
       "version_major": 2,
       "version_minor": 0
      },
      "text/plain": [
       "Validating: 0it [00:00, ?it/s]"
      ]
     },
     "metadata": {},
     "output_type": "display_data"
    },
    {
     "data": {
      "application/vnd.jupyter.widget-view+json": {
       "model_id": "",
       "version_major": 2,
       "version_minor": 0
      },
      "text/plain": [
       "Validating: 0it [00:00, ?it/s]"
      ]
     },
     "metadata": {},
     "output_type": "display_data"
    }
   ],
   "source": [
    "# Train the model\n",
    "trainer.fit(model, dm)"
   ]
  },
  {
   "cell_type": "markdown",
   "id": "994584b1",
   "metadata": {},
   "source": [
    "Após o treinamento, iremos encerrar o processo do `wandb` o qual retornará também algumas estatísticas de treinamento e salvar o nosso modelo."
   ]
  },
  {
   "cell_type": "code",
   "execution_count": 16,
   "id": "5c536d4f",
   "metadata": {},
   "outputs": [
    {
     "data": {
      "text/html": [
       "<br/>Waiting for W&B process to finish, PID 1896... <strong style=\"color:green\">(success).</strong>"
      ],
      "text/plain": [
       "<IPython.core.display.HTML object>"
      ]
     },
     "metadata": {},
     "output_type": "display_data"
    },
    {
     "data": {
      "application/vnd.jupyter.widget-view+json": {
       "model_id": "",
       "version_major": 2,
       "version_minor": 0
      },
      "text/plain": [
       "VBox(children=(Label(value=' 71.63MB of 71.63MB uploaded (0.00MB deduped)\\r'), FloatProgress(value=1.0, max=1.…"
      ]
     },
     "metadata": {},
     "output_type": "display_data"
    },
    {
     "data": {
      "text/html": [
       "<style>\n",
       "    table.wandb td:nth-child(1) { padding: 0 10px; text-align: right }\n",
       "    .wandb-row { display: flex; flex-direction: row; flex-wrap: wrap; width: 100% }\n",
       "    .wandb-col { display: flex; flex-direction: column; flex-basis: 100%; flex: 1; padding: 10px; }\n",
       "    </style>\n",
       "<div class=\"wandb-row\"><div class=\"wandb-col\">\n",
       "<h3>Run history:</h3><br/><table class=\"wandb\"><tr><td>epoch</td><td>▁▁▁▂▂▂▂▂▂▃▃▃▃▃▄▄▄▄▄▄▅▅▅▅▅▅▆▆▆▆▆▇▇▇▇▇▇███</td></tr><tr><td>train_acc_epoch</td><td>▁▅▆▆▆▇▇▇▇▇▇▇▇▇████████████</td></tr><tr><td>train_acc_step</td><td>▁▄▅▅▆▅▆▄▆▅▇▆▆▇▇▆▆█▇▇▇█▇█▇██▆██▇█▇▇▇█▇█▇█</td></tr><tr><td>train_loss_epoch</td><td>█▄▃▂▂▂▂▂▂▂▂▁▁▁▁▁▁▁▁▁▁▁▁▁▁▁</td></tr><tr><td>train_loss_step</td><td>█▅▄▃▃▂▂▃▂▂▂▂▂▂▂▂▂▁▂▂▂▁▁▁▁▁▁▂▁▁▁▁▁▁▁▁▁▁▁▁</td></tr><tr><td>trainer/global_step</td><td>▁▁▁▂▂▂▂▂▂▃▃▃▃▃▃▄▄▄▄▄▅▅▅▅▅▅▆▆▆▆▆▆▇▇▇▇▇███</td></tr><tr><td>val_acc</td><td>▁▅▇▇▇██▇████████▇▇▇▇█▇▇▇▇▇</td></tr><tr><td>val_loss</td><td>█▄▃▂▂▂▁▁▁▁▁▁▁▁▁▁▁▁▁▁▁▁▁▁▁▁</td></tr></table><br/></div><div class=\"wandb-col\">\n",
       "<h3>Run summary:</h3><br/><table class=\"wandb\"><tr><td>epoch</td><td>25</td></tr><tr><td>train_acc_epoch</td><td>0.96761</td></tr><tr><td>train_acc_step</td><td>0.96094</td></tr><tr><td>train_loss_epoch</td><td>0.16775</td></tr><tr><td>train_loss_step</td><td>0.1683</td></tr><tr><td>trainer/global_step</td><td>2781</td></tr><tr><td>val_acc</td><td>0.80439</td></tr><tr><td>val_loss</td><td>0.64898</td></tr></table>\n",
       "</div></div>\n",
       "Synced 6 W&B file(s), 864 media file(s), 0 artifact file(s) and 0 other file(s)\n",
       "<br/>Synced <strong style=\"color:#cdcd00\">royal-mountain-10</strong>: <a href=\"https://wandb.ai/jrzmnt/dog-breed-lightning/runs/3g7ncgkq\" target=\"_blank\">https://wandb.ai/jrzmnt/dog-breed-lightning/runs/3g7ncgkq</a><br/>\n",
       "Find logs at: <code>.\\wandb\\run-20211016_121713-3g7ncgkq\\logs</code><br/>\n"
      ],
      "text/plain": [
       "<IPython.core.display.HTML object>"
      ]
     },
     "metadata": {},
     "output_type": "display_data"
    }
   ],
   "source": [
    "# Close wandb run\n",
    "wandb.finish()"
   ]
  },
  {
   "cell_type": "markdown",
   "id": "9eb0c463",
   "metadata": {},
   "source": [
    "### Importante!\n",
    "\n",
    "Sem o código da célula abaixo, não seriámos capazes de carregar os pesos deste treinamento (apesar do callback salvando os pesos)."
   ]
  },
  {
   "cell_type": "code",
   "execution_count": 17,
   "id": "ea422409",
   "metadata": {},
   "outputs": [
    {
     "data": {
      "text/html": [
       "\n",
       "                    Syncing run <strong><a href=\"https://wandb.ai/jrzmnt/wandb-lightning/runs/fthary93\" target=\"_blank\">amber-river-1</a></strong> to <a href=\"https://wandb.ai/jrzmnt/wandb-lightning\" target=\"_blank\">Weights & Biases</a> (<a href=\"https://docs.wandb.com/integrations/jupyter.html\" target=\"_blank\">docs</a>).<br/>\n",
       "\n",
       "                "
      ],
      "text/plain": [
       "<IPython.core.display.HTML object>"
      ]
     },
     "metadata": {},
     "output_type": "display_data"
    },
    {
     "name": "stderr",
     "output_type": "stream",
     "text": [
      "wandb: Adding directory to artifact (.\\..\\models)... Done. 6.2s\n"
     ]
    },
    {
     "data": {
      "text/html": [
       "<br/>Waiting for W&B process to finish, PID 11476... <strong style=\"color:green\">(success).</strong>"
      ],
      "text/plain": [
       "<IPython.core.display.HTML object>"
      ]
     },
     "metadata": {},
     "output_type": "display_data"
    },
    {
     "data": {
      "application/vnd.jupyter.widget-view+json": {
       "model_id": "",
       "version_major": 2,
       "version_minor": 0
      },
      "text/plain": [
       "VBox(children=(Label(value=' 193.95MB of 193.95MB uploaded (0.00MB deduped)\\r'), FloatProgress(value=1.0, max=…"
      ]
     },
     "metadata": {},
     "output_type": "display_data"
    },
    {
     "data": {
      "text/html": [
       "<style>\n",
       "    table.wandb td:nth-child(1) { padding: 0 10px; text-align: right }\n",
       "    .wandb-row { display: flex; flex-direction: row; flex-wrap: wrap; width: 100% }\n",
       "    .wandb-col { display: flex; flex-direction: column; flex-basis: 100%; flex: 1; padding: 10px; }\n",
       "    </style>\n",
       "<div class=\"wandb-row\"><div class=\"wandb-col\">\n",
       "</div><div class=\"wandb-col\">\n",
       "</div></div>\n",
       "Synced 6 W&B file(s), 0 media file(s), 3 artifact file(s) and 0 other file(s)\n",
       "<br/>Synced <strong style=\"color:#cdcd00\">amber-river-1</strong>: <a href=\"https://wandb.ai/jrzmnt/wandb-lightning/runs/fthary93\" target=\"_blank\">https://wandb.ai/jrzmnt/wandb-lightning/runs/fthary93</a><br/>\n",
       "Find logs at: <code>.\\wandb\\run-20211016_132730-fthary93\\logs</code><br/>\n"
      ],
      "text/plain": [
       "<IPython.core.display.HTML object>"
      ]
     },
     "metadata": {},
     "output_type": "display_data"
    }
   ],
   "source": [
    "run = wandb.init(project='wandb-lightning', job_type='producer')\n",
    "\n",
    "artifact = wandb.Artifact('model', type='model')\n",
    "artifact.add_dir(MODEL_CKPT_PATH)\n",
    "\n",
    "run.log_artifact(artifact)\n",
    "run.join()"
   ]
  },
  {
   "cell_type": "markdown",
   "id": "6521143a",
   "metadata": {},
   "source": [
    "### Carregando o Melhor Modelo\n",
    "\n",
    "Caso essa sessão tenha sido reiniciada, é importante que façamos o *load* nos pesos que acabamos de treinar."
   ]
  },
  {
   "cell_type": "code",
   "execution_count": 41,
   "id": "33e8b86b",
   "metadata": {},
   "outputs": [],
   "source": [
    "MODEL_CKPT_PATH = './../models/resnet-18-baseline'"
   ]
  },
  {
   "cell_type": "markdown",
   "id": "23a414b9",
   "metadata": {},
   "source": [
    "Essa parte do código irá carregar o melhor peso (baseado no loss) dado uma pasta de pesos."
   ]
  },
  {
   "cell_type": "code",
   "execution_count": 42,
   "id": "c133434e",
   "metadata": {},
   "outputs": [
    {
     "name": "stdout",
     "output_type": "stream",
     "text": [
      "baseline-epoch=15-val_loss=0.62.ckpt\n"
     ]
    }
   ],
   "source": [
    "model_ckpts = os.listdir(MODEL_CKPT_PATH)\n",
    "losses = []\n",
    "for model_ckpt in model_ckpts:\n",
    "    loss = re.findall(\"\\d+\\.\\d+\", model_ckpt)\n",
    "    losses.append(float(loss[0]))\n",
    "\n",
    "losses = np.array(losses)\n",
    "best_model_index = np.argsort(losses)[0]\n",
    "best_model = model_ckpts[best_model_index]\n",
    "print(best_model)"
   ]
  },
  {
   "cell_type": "markdown",
   "id": "d7b99b10",
   "metadata": {},
   "source": [
    "Após escolhido o peso, iremos carregar o modelo utilizando a nossa classe criada `DogModel` e o método `load_from_checkpoint()`."
   ]
  },
  {
   "cell_type": "code",
   "execution_count": 43,
   "id": "201d5b81",
   "metadata": {},
   "outputs": [
    {
     "name": "stdout",
     "output_type": "stream",
     "text": [
      "Use Pre-Training? True\n",
      "Not going to freeze the layer: fc.weight\n",
      "Not going to freeze the layer: fc.bias\n"
     ]
    }
   ],
   "source": [
    "inference_model = DogModel.load_from_checkpoint(MODEL_CKPT_PATH+'/'+best_model)"
   ]
  },
  {
   "cell_type": "markdown",
   "id": "2626cbe9",
   "metadata": {},
   "source": [
    "Feito isso, iremos definir uma função de avaliação (`evaluate`) das nossas imagens, a qual irá utilizar um `Model` e um `DataLoader`."
   ]
  },
  {
   "cell_type": "code",
   "execution_count": 53,
   "id": "5434a67c",
   "metadata": {},
   "outputs": [],
   "source": [
    "def evaluate(model, loader):\n",
    "    \"\"\"Evaluate the data from a DataLoader using a Model.\n",
    "\n",
    "    Parameters\n",
    "    ----------\n",
    "    model : torchvision.models.resnet.ResNet\n",
    "        ResNet model containing pre-trained weights.    \n",
    "    loader : torch.utils.data.DataLoader\n",
    "        Dataloader that yields images and labels in batches.\n",
    "        \n",
    "    \"\"\"\n",
    "    \n",
    "    model.eval()\n",
    "    y_true = []\n",
    "    y_pred = []\n",
    "    \n",
    "    for imgs, labels in tqdm(loader):\n",
    "        \n",
    "        logits = inference_model(imgs)\n",
    "        y_true.extend(labels)\n",
    "        y_pred.extend(np.argmax(logits.detach().numpy(), axis=1))    \n",
    "    \n",
    "    print(f'Model Acc: {accuracy_score(y_true, y_pred)}')\n",
    "    \n",
    "    return np.array(y_true), np.array(y_pred)"
   ]
  },
  {
   "cell_type": "markdown",
   "id": "cd083f6f",
   "metadata": {},
   "source": [
    "A função irá retornar duas listas contendo os valores reais da predições (`y_true`) e os valores preditos (`y_pred`).\n",
    "Após isso, nós iremos salvar em uma arquivo `.npy` para analisarmos os resultados em outro jupyter notebook (**Dog-Breed-Results.ipynb**)."
   ]
  },
  {
   "cell_type": "code",
   "execution_count": 54,
   "id": "d0403ff1",
   "metadata": {
    "scrolled": false
   },
   "outputs": [
    {
     "name": "stdout",
     "output_type": "stream",
     "text": [
      "Batch 1 Acc: 0.84375\n",
      "----------------------------------------\n",
      "Batch 2 Acc: 0.796875\n",
      "----------------------------------------\n",
      "Batch 3 Acc: 0.7265625\n",
      "----------------------------------------\n",
      "Batch 4 Acc: 0.84375\n",
      "----------------------------------------\n",
      "Batch 5 Acc: 0.7734375\n",
      "----------------------------------------\n",
      "Batch 6 Acc: 0.7890625\n",
      "----------------------------------------\n",
      "Batch 7 Acc: 0.859375\n",
      "----------------------------------------\n",
      "Batch 8 Acc: 0.84375\n",
      "----------------------------------------\n",
      "Batch 9 Acc: 0.8203125\n",
      "----------------------------------------\n",
      "Batch 10 Acc: 0.8046875\n",
      "----------------------------------------\n",
      "Batch 11 Acc: 0.828125\n",
      "----------------------------------------\n",
      "Batch 12 Acc: 0.8125\n",
      "----------------------------------------\n",
      "Batch 13 Acc: 0.84375\n",
      "----------------------------------------\n",
      "Batch 14 Acc: 0.7734375\n",
      "----------------------------------------\n",
      "Batch 15 Acc: 0.8359375\n",
      "----------------------------------------\n",
      "Batch 16 Acc: 0.8125\n",
      "----------------------------------------\n",
      "Batch 17 Acc: 0.8046875\n",
      "----------------------------------------\n",
      "Batch 18 Acc: 0.71875\n",
      "----------------------------------------\n",
      "Batch 19 Acc: 0.8359375\n",
      "----------------------------------------\n",
      "Batch 20 Acc: 0.84375\n",
      "----------------------------------------\n",
      "Batch 21 Acc: 0.8125\n",
      "----------------------------------------\n",
      "Batch 22 Acc: 0.8828125\n",
      "----------------------------------------\n",
      "Batch 23 Acc: 0.828125\n",
      "----------------------------------------\n",
      "Batch 24 Acc: 0.8203125\n",
      "----------------------------------------\n",
      "Batch 25 Acc: 0.84375\n",
      "----------------------------------------\n",
      "Batch 26 Acc: 0.8203125\n",
      "----------------------------------------\n",
      "Batch 27 Acc: 0.7065217391304348\n",
      "----------------------------------------\n",
      "Model Acc: 0.8131578947368421\n"
     ]
    }
   ],
   "source": [
    "y_true, y_pred = evaluate(inference_model, dm.val_dataloader())"
   ]
  },
  {
   "cell_type": "code",
   "execution_count": 59,
   "id": "77136dc2",
   "metadata": {},
   "outputs": [],
   "source": [
    "results = [y_true, y_pred]\n",
    "file_path = './../reports/results/resnet18-baseline-validation-results-ytrue-ypred.npy'\n",
    "np.save(file_path, results)"
   ]
  },
  {
   "cell_type": "markdown",
   "id": "97c042d8",
   "metadata": {},
   "source": [
    "# Analisando o Resultado\n",
    "\n",
    "Os resultados do modelo **ResNet-18 Baseline** podem ser visualizados ao acessar o notebook **Dog-Breed-Results.ipynb** o qual esta localizado nesta pasta (`'./notebooks'`)."
   ]
  }
 ],
 "metadata": {
  "kernelspec": {
   "display_name": "TORCH",
   "language": "python",
   "name": "torch"
  },
  "language_info": {
   "codemirror_mode": {
    "name": "ipython",
    "version": 3
   },
   "file_extension": ".py",
   "mimetype": "text/x-python",
   "name": "python",
   "nbconvert_exporter": "python",
   "pygments_lexer": "ipython3",
   "version": "3.7.11"
  }
 },
 "nbformat": 4,
 "nbformat_minor": 5
}
